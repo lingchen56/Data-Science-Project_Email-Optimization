{
 "cells": [
  {
   "cell_type": "markdown",
   "metadata": {
    "slideshow": {
     "slide_type": "slide"
    }
   },
   "source": [
    "## Project Overview"
   ]
  },
  {
   "cell_type": "code",
   "execution_count": null,
   "metadata": {},
   "outputs": [],
   "source": []
  },
  {
   "cell_type": "markdown",
   "metadata": {
    "slideshow": {
     "slide_type": "notes"
    }
   },
   "source": [
    "This project uses data science methods to find optimal solutions for sending outreach sequence emails. \n",
    "Through data analysis and machine learning models, we can determine strong indicators of whether or not a prospect will engage with an email. With these important factors, the company can improve the efficiency and effect of the sequences."
   ]
  },
  {
   "cell_type": "markdown",
   "metadata": {
    "slideshow": {
     "slide_type": "slide"
    }
   },
   "source": [
    "## Project Outline"
   ]
  },
  {
   "cell_type": "markdown",
   "metadata": {},
   "source": [
    "Part 1: Data Exploration\n",
    "> Part 1.1: Understand raw dataset\n",
    "<br>Part 1.2: Data Cleaning\n",
    "<br>Part 1.3: Exploratory Data Analysis\n",
    "\n",
    "Part 2: Feature Enigeering\n",
    "> Part 2.1: Drop irrelavant features\n",
    "<br>Part 2.2: Create new features\n",
    "<br>Part 2.3: Time related features\n",
    "<br>Part 2.4: Feature correlation\n",
    "\n",
    "Part 3: Building Models\n",
    "> Part 3.1: Explore models\n",
    "<br>Part 3.2: Model evaluation\n",
    "\n",
    "Part 4: Summary\n",
    "    "
   ]
  },
  {
   "cell_type": "markdown",
   "metadata": {},
   "source": [
    "## Part 1: Data Exploration"
   ]
  },
  {
   "cell_type": "markdown",
   "metadata": {},
   "source": [
    "### Part 1.1: Understand the Raw Dataset"
   ]
  },
  {
   "cell_type": "code",
   "execution_count": 67,
   "metadata": {},
   "outputs": [],
   "source": [
    "import warnings\n",
    "warnings.filterwarnings('ignore')\n",
    "import pandas as pd\n",
    "import seaborn as sns\n",
    "import numpy as np\n",
    "import itertools\n",
    "# import cPickle\n",
    "plt.style.use(\"ggplot\")\n",
    "%matplotlib inline\n",
    "import matplotlib.pyplot as plt"
   ]
  },
  {
   "cell_type": "code",
   "execution_count": 82,
   "metadata": {},
   "outputs": [],
   "source": [
    "from sklearn.tree import DecisionTreeClassifier\n",
    "from sklearn.linear_model import LogisticRegressionCV\n",
    "from sklearn.ensemble import BaggingClassifier, RandomForestClassifier\n",
    "from sklearn.cross_validation import train_test_split\n",
    "from sklearn.grid_search import GridSearchCV\n",
    "from sklearn.feature_selection import chi2,f_classif\n",
    "from sklearn.preprocessing import LabelEncoder\n",
    "from sklearn.metrics import classification_report,confusion_matrix, roc_curve,precision_score,recall_score,auc,precision_recall_curve"
   ]
  },
  {
   "cell_type": "code",
   "execution_count": 7,
   "metadata": {
    "scrolled": true
   },
   "outputs": [
    {
     "name": "stderr",
     "output_type": "stream",
     "text": [
      "b'Skipping line 100296: expected 44 fields, saw 47\\nSkipping line 100360: expected 44 fields, saw 47\\nSkipping line 100366: expected 44 fields, saw 47\\nSkipping line 100367: expected 44 fields, saw 47\\nSkipping line 100448: expected 44 fields, saw 47\\nSkipping line 100449: expected 44 fields, saw 47\\nSkipping line 100535: expected 44 fields, saw 45\\nSkipping line 100702: expected 44 fields, saw 45\\nSkipping line 100898: expected 44 fields, saw 45\\nSkipping line 100928: expected 44 fields, saw 45\\nSkipping line 101560: expected 44 fields, saw 47\\nSkipping line 101563: expected 44 fields, saw 47\\nSkipping line 102367: expected 44 fields, saw 47\\nSkipping line 102369: expected 44 fields, saw 47\\nSkipping line 102967: expected 44 fields, saw 47\\nSkipping line 103006: expected 44 fields, saw 47\\nSkipping line 104103: expected 44 fields, saw 47\\nSkipping line 104139: expected 44 fields, saw 47\\nSkipping line 104742: expected 44 fields, saw 47\\nSkipping line 104776: expected 44 fields, saw 47\\n'\n",
      "b'Skipping line 142514: expected 44 fields, saw 45\\nSkipping line 142855: expected 44 fields, saw 45\\nSkipping line 142856: expected 44 fields, saw 45\\nSkipping line 142858: expected 44 fields, saw 47\\nSkipping line 143057: expected 44 fields, saw 45\\nSkipping line 143059: expected 44 fields, saw 45\\nSkipping line 143060: expected 44 fields, saw 45\\nSkipping line 143063: expected 44 fields, saw 47\\nSkipping line 143248: expected 44 fields, saw 45\\nSkipping line 143261: expected 44 fields, saw 45\\nSkipping line 143348: expected 44 fields, saw 45\\nSkipping line 143357: expected 44 fields, saw 47\\nSkipping line 144406: expected 44 fields, saw 45\\nSkipping line 144407: expected 44 fields, saw 45\\nSkipping line 144453: expected 44 fields, saw 47\\nSkipping line 144504: expected 44 fields, saw 45\\nSkipping line 145962: expected 44 fields, saw 47\\nSkipping line 145982: expected 44 fields, saw 45\\nSkipping line 145989: expected 44 fields, saw 45\\nSkipping line 146001: expected 44 fields, saw 45\\nSkipping line 147071: expected 44 fields, saw 45\\nSkipping line 147090: expected 44 fields, saw 45\\nSkipping line 147093: expected 44 fields, saw 45\\nSkipping line 147107: expected 44 fields, saw 47\\nSkipping line 147501: expected 44 fields, saw 47\\n'\n",
      "b'Skipping line 249641: expected 44 fields, saw 47\\n'\n",
      "b'Skipping line 353630: expected 44 fields, saw 47\\n'\n",
      "b'Skipping line 989295: expected 44 fields, saw 45\\nSkipping line 989296: expected 44 fields, saw 45\\nSkipping line 989411: expected 44 fields, saw 45\\nSkipping line 989412: expected 44 fields, saw 45\\nSkipping line 997719: expected 44 fields, saw 45\\nSkipping line 997721: expected 44 fields, saw 45\\n'\n",
      "b'Skipping line 1000727: expected 44 fields, saw 45\\nSkipping line 1000733: expected 44 fields, saw 45\\nSkipping line 1004526: expected 44 fields, saw 45\\nSkipping line 1004528: expected 44 fields, saw 45\\nSkipping line 1011589: expected 44 fields, saw 45\\nSkipping line 1011590: expected 44 fields, saw 45\\n'\n",
      "b'Skipping line 1017637: expected 44 fields, saw 45\\nSkipping line 1017638: expected 44 fields, saw 45\\nSkipping line 1020101: expected 44 fields, saw 45\\nSkipping line 1020102: expected 44 fields, saw 45\\nSkipping line 1021745: expected 44 fields, saw 45\\nSkipping line 1021746: expected 44 fields, saw 45\\n'\n"
     ]
    }
   ],
   "source": [
    "# pd.set_option('display.max_columns', None)\n",
    "df = pd.read_csv('./sequence-mailings.csv',error_bad_lines=False)"
   ]
  },
  {
   "cell_type": "code",
   "execution_count": null,
   "metadata": {},
   "outputs": [],
   "source": [
    "df.head()"
   ]
  },
  {
   "cell_type": "code",
   "execution_count": null,
   "metadata": {},
   "outputs": [],
   "source": [
    "df.describe()"
   ]
  },
  {
   "cell_type": "code",
   "execution_count": null,
   "metadata": {},
   "outputs": [],
   "source": [
    "# unique value overview\n",
    "for column in df.columns:\n",
    "    uniques = df[column].unique()\n",
    "    print('{0:20s} {1:5d}\\t'.format(column, len(uniques)), uniques[:5])"
   ]
  },
  {
   "cell_type": "markdown",
   "metadata": {},
   "source": [
    "### Part 1.2: Data cleaning"
   ]
  },
  {
   "cell_type": "markdown",
   "metadata": {},
   "source": [
    "#### Handle data formatting error"
   ]
  },
  {
   "cell_type": "code",
   "execution_count": 8,
   "metadata": {},
   "outputs": [],
   "source": [
    "# date format\n",
    "df['delivered_at'] = pd.to_datetime(df['delivered_at'])\n",
    "df['thread_replied_at'] = pd.to_datetime(df['thread_replied_at'])\n",
    "df['replied_at'] = pd.to_datetime(df['replied_at'])\n",
    "df['opened_at'] = pd.to_datetime(df['opened_at'])\n",
    "df['clicked_at'] = pd.to_datetime(df['clicked_at'])\n",
    "df['prospect_dob'] = pd.to_datetime(df['prospect_dob'])\n",
    "df['prospect_opted_out'] = pd.to_datetime(df['prospect_opted_out'])"
   ]
  },
  {
   "cell_type": "markdown",
   "metadata": {},
   "source": [
    "#### Handle data integrity, typos and anomalies"
   ]
  },
  {
   "cell_type": "code",
   "execution_count": 9,
   "metadata": {},
   "outputs": [],
   "source": [
    "# company tier: some of company tier are represented as number(company size), some should be normalized\n",
    "def company_tier(tier):\n",
    "    if tier == '201-1000':\n",
    "        t = 'Mid-Market'\n",
    "    elif tier == 'SMB':\n",
    "        t = 'Small Business'\n",
    "    else:\n",
    "        return tier\n",
    "    return t"
   ]
  },
  {
   "cell_type": "code",
   "execution_count": 10,
   "metadata": {},
   "outputs": [],
   "source": [
    "for data in [df]:\n",
    "    data['company_tier'] = data['company_tier'].apply(company_tier)"
   ]
  },
  {
   "cell_type": "code",
   "execution_count": 11,
   "metadata": {},
   "outputs": [],
   "source": [
    "# city locality: There're some typos in city names, also some city names should be normalized\n",
    "def correct_city_locality(city):\n",
    "    if pd.isnull(city):\n",
    "        return city\n",
    "    if city == 'Adddison':\n",
    "        c = 'Addison'\n",
    "    if city == 'Bejing':\n",
    "        c = 'Beijing'\n",
    "    if city == 'Washington' or city == 'Washington D.C. Metro Area' or city == 'Washington, D.C.' or city == 'Washington, DC':\n",
    "        c = 'Washington, D.C.'\n",
    "    if city.split(\" \")[-1] == 'Area':\n",
    "        c = city.split(\" \")[0]\n",
    "    else:\n",
    "        return city\n",
    "    return c"
   ]
  },
  {
   "cell_type": "code",
   "execution_count": 12,
   "metadata": {},
   "outputs": [],
   "source": [
    "for data in [df]:\n",
    "    data['company_locality'] = data['company_locality'].apply(correct_city_locality)"
   ]
  },
  {
   "cell_type": "markdown",
   "metadata": {},
   "source": [
    "#### Correct and normalize ill-formed texts"
   ]
  },
  {
   "cell_type": "code",
   "execution_count": 13,
   "metadata": {},
   "outputs": [],
   "source": [
    "# prospect_time_zone\n",
    "def time_zone(time):\n",
    "    if time == 'America/New_York':\n",
    "        t = 'EST'\n",
    "    elif time == 'America/Chicago' or time =='America/Denvor' or time =='America/Indiana/Indianapolis' or time =='America/Mexico_City' or time =='America/Monterrey' or time =='America/Regina':\n",
    "        t = 'CST'\n",
    "    elif time == 'America/Los_Angeles':\n",
    "        t = 'PST'\n",
    "    elif time == 'America/Phoenix':\n",
    "        t = 'MDT'\n",
    "    else:\n",
    "        return time\n",
    "    return t\n"
   ]
  },
  {
   "cell_type": "code",
   "execution_count": 14,
   "metadata": {},
   "outputs": [],
   "source": [
    "for data in [df]:\n",
    "    data['prospect_time_zone'] = data['prospect_time_zone'].apply(time_zone)\n",
    "# df['prospect_time_zone']"
   ]
  },
  {
   "cell_type": "code",
   "execution_count": 15,
   "metadata": {},
   "outputs": [],
   "source": [
    "#prospect_city\n",
    "def correct_city(city):\n",
    "    if city == '0' or city == '8700' or city == '.':\n",
    "        c = None\n",
    "    # represents the US states\n",
    "    else:\n",
    "        return city\n",
    "    return c"
   ]
  },
  {
   "cell_type": "code",
   "execution_count": 16,
   "metadata": {},
   "outputs": [
    {
     "data": {
      "text/html": [
       "<div>\n",
       "<style scoped>\n",
       "    .dataframe tbody tr th:only-of-type {\n",
       "        vertical-align: middle;\n",
       "    }\n",
       "\n",
       "    .dataframe tbody tr th {\n",
       "        vertical-align: top;\n",
       "    }\n",
       "\n",
       "    .dataframe thead th {\n",
       "        text-align: right;\n",
       "    }\n",
       "</style>\n",
       "<table border=\"1\" class=\"dataframe\">\n",
       "  <thead>\n",
       "    <tr style=\"text-align: right;\">\n",
       "      <th></th>\n",
       "      <th>id</th>\n",
       "      <th>message_id</th>\n",
       "      <th>parent_message_id</th>\n",
       "      <th>to_domain</th>\n",
       "      <th>from</th>\n",
       "      <th>is_thread_reply</th>\n",
       "      <th>subject_customized</th>\n",
       "      <th>body_customized</th>\n",
       "      <th>subject_length</th>\n",
       "      <th>body_length</th>\n",
       "      <th>...</th>\n",
       "      <th>prospect_opted_out</th>\n",
       "      <th>persona</th>\n",
       "      <th>company_name</th>\n",
       "      <th>company_size</th>\n",
       "      <th>industry</th>\n",
       "      <th>website</th>\n",
       "      <th>company_locality</th>\n",
       "      <th>company_tier</th>\n",
       "      <th>sequence_order</th>\n",
       "      <th>tags</th>\n",
       "    </tr>\n",
       "  </thead>\n",
       "  <tbody>\n",
       "    <tr>\n",
       "      <th>0</th>\n",
       "      <td>6756</td>\n",
       "      <td>&lt;541c38a863c25_5ad93fae6971f12c_1_67@app.mail&gt;</td>\n",
       "      <td>NaN</td>\n",
       "      <td>birchbox.com</td>\n",
       "      <td>manny@outreach.io</td>\n",
       "      <td>1</td>\n",
       "      <td>0</td>\n",
       "      <td>0</td>\n",
       "      <td>33.0</td>\n",
       "      <td>850.0</td>\n",
       "      <td>...</td>\n",
       "      <td>NaT</td>\n",
       "      <td>Recruiting</td>\n",
       "      <td>NaN</td>\n",
       "      <td>NaN</td>\n",
       "      <td>NaN</td>\n",
       "      <td>NaN</td>\n",
       "      <td>NaN</td>\n",
       "      <td>NaN</td>\n",
       "      <td>1</td>\n",
       "      <td>birchbox,recruiting,sampler app</td>\n",
       "    </tr>\n",
       "    <tr>\n",
       "      <th>1</th>\n",
       "      <td>6757</td>\n",
       "      <td>&lt;541c530d33a3e_38983f994f693278_1_e4@worker.mail&gt;</td>\n",
       "      <td>NaN</td>\n",
       "      <td>birchbox.com</td>\n",
       "      <td>manny@outreach.io</td>\n",
       "      <td>1</td>\n",
       "      <td>0</td>\n",
       "      <td>0</td>\n",
       "      <td>NaN</td>\n",
       "      <td>249.0</td>\n",
       "      <td>...</td>\n",
       "      <td>NaT</td>\n",
       "      <td>Recruiting</td>\n",
       "      <td>NaN</td>\n",
       "      <td>NaN</td>\n",
       "      <td>NaN</td>\n",
       "      <td>NaN</td>\n",
       "      <td>NaN</td>\n",
       "      <td>NaN</td>\n",
       "      <td>2</td>\n",
       "      <td>birchbox,recruiting,sampler app</td>\n",
       "    </tr>\n",
       "    <tr>\n",
       "      <th>2</th>\n",
       "      <td>6762</td>\n",
       "      <td>&lt;541cc6885b944_6f803f8c38c7514c_1_63@app.mail&gt;</td>\n",
       "      <td>NaN</td>\n",
       "      <td>customerlobby.com</td>\n",
       "      <td>manny@outreach.io</td>\n",
       "      <td>1</td>\n",
       "      <td>0</td>\n",
       "      <td>0</td>\n",
       "      <td>19.0</td>\n",
       "      <td>1012.0</td>\n",
       "      <td>...</td>\n",
       "      <td>NaT</td>\n",
       "      <td>Sales Leadership</td>\n",
       "      <td>Customer Lobby</td>\n",
       "      <td>51.0</td>\n",
       "      <td>Internet</td>\n",
       "      <td>customerlobby.com</td>\n",
       "      <td>Berkeley</td>\n",
       "      <td>Mid-Market</td>\n",
       "      <td>1</td>\n",
       "      <td>01222015,1:11242014,angel,Batch 1 (Nov '14),Co...</td>\n",
       "    </tr>\n",
       "    <tr>\n",
       "      <th>3</th>\n",
       "      <td>6763</td>\n",
       "      <td>&lt;541cc68876a28_6f803f8c38c7514c_1_3b@app.mail&gt;</td>\n",
       "      <td>NaN</td>\n",
       "      <td>doubledutch.me</td>\n",
       "      <td>manny@outreach.io</td>\n",
       "      <td>1</td>\n",
       "      <td>0</td>\n",
       "      <td>0</td>\n",
       "      <td>19.0</td>\n",
       "      <td>1012.0</td>\n",
       "      <td>...</td>\n",
       "      <td>NaT</td>\n",
       "      <td>Sales Leadership</td>\n",
       "      <td>DoubleDutch</td>\n",
       "      <td>51.0</td>\n",
       "      <td>Computer Software</td>\n",
       "      <td>www.doubledutch.me</td>\n",
       "      <td>San Francisco</td>\n",
       "      <td>Mid-Market</td>\n",
       "      <td>1</td>\n",
       "      <td>01222015,angel,Colleague,Colleague562,double d...</td>\n",
       "    </tr>\n",
       "    <tr>\n",
       "      <th>4</th>\n",
       "      <td>6764</td>\n",
       "      <td>&lt;541cc6888fc74_6f803f8c38c7514c_1_35@app.mail&gt;</td>\n",
       "      <td>NaN</td>\n",
       "      <td>maprtech.com</td>\n",
       "      <td>manny@outreach.io</td>\n",
       "      <td>1</td>\n",
       "      <td>0</td>\n",
       "      <td>0</td>\n",
       "      <td>19.0</td>\n",
       "      <td>1012.0</td>\n",
       "      <td>...</td>\n",
       "      <td>2014-12-12 15:10:37</td>\n",
       "      <td>Sales Leadership</td>\n",
       "      <td>MapR Technologies</td>\n",
       "      <td>NaN</td>\n",
       "      <td>NaN</td>\n",
       "      <td>NaN</td>\n",
       "      <td>NaN</td>\n",
       "      <td>NaN</td>\n",
       "      <td>1</td>\n",
       "      <td>1:11242014,outbound</td>\n",
       "    </tr>\n",
       "    <tr>\n",
       "      <th>5</th>\n",
       "      <td>6765</td>\n",
       "      <td>&lt;541cc688a5c46_6f803f8c38c7514c_1_b1@app.mail&gt;</td>\n",
       "      <td>NaN</td>\n",
       "      <td>opendns.com</td>\n",
       "      <td>manny@outreach.io</td>\n",
       "      <td>1</td>\n",
       "      <td>0</td>\n",
       "      <td>0</td>\n",
       "      <td>19.0</td>\n",
       "      <td>1012.0</td>\n",
       "      <td>...</td>\n",
       "      <td>NaT</td>\n",
       "      <td>Sales Leadership</td>\n",
       "      <td>OpenDNS - now a part of Cisco</td>\n",
       "      <td>NaN</td>\n",
       "      <td>Internet</td>\n",
       "      <td>opendns.com</td>\n",
       "      <td>San Francisco</td>\n",
       "      <td>Mid-Market</td>\n",
       "      <td>1</td>\n",
       "      <td>1:11242014,Batch 1 (Nov '14),ChrisL,outbound</td>\n",
       "    </tr>\n",
       "    <tr>\n",
       "      <th>6</th>\n",
       "      <td>6767</td>\n",
       "      <td>&lt;541cc688d000c_6f803f8c38c7514c_1_d3@app.mail&gt;</td>\n",
       "      <td>NaN</td>\n",
       "      <td>mashery.com</td>\n",
       "      <td>manny@outreach.io</td>\n",
       "      <td>1</td>\n",
       "      <td>0</td>\n",
       "      <td>0</td>\n",
       "      <td>19.0</td>\n",
       "      <td>1012.0</td>\n",
       "      <td>...</td>\n",
       "      <td>2015-02-06 02:40:12</td>\n",
       "      <td>Sales Leadership</td>\n",
       "      <td>Mashery</td>\n",
       "      <td>NaN</td>\n",
       "      <td>NaN</td>\n",
       "      <td>NaN</td>\n",
       "      <td>NaN</td>\n",
       "      <td>NaN</td>\n",
       "      <td>1</td>\n",
       "      <td>1:11242014,outbound</td>\n",
       "    </tr>\n",
       "    <tr>\n",
       "      <th>7</th>\n",
       "      <td>6768</td>\n",
       "      <td>&lt;541cc688e5de9_6f803f8c38c7514c_1_61@app.mail&gt;</td>\n",
       "      <td>NaN</td>\n",
       "      <td>yahoo.com</td>\n",
       "      <td>manny@outreach.io</td>\n",
       "      <td>1</td>\n",
       "      <td>0</td>\n",
       "      <td>0</td>\n",
       "      <td>19.0</td>\n",
       "      <td>1012.0</td>\n",
       "      <td>...</td>\n",
       "      <td>NaT</td>\n",
       "      <td>Sales Leadership</td>\n",
       "      <td>Rocket Lawyer</td>\n",
       "      <td>NaN</td>\n",
       "      <td>Internet</td>\n",
       "      <td>rocketlawyer.com</td>\n",
       "      <td>San Francisco</td>\n",
       "      <td>Mid-Market</td>\n",
       "      <td>1</td>\n",
       "      <td>1:11242014,Batch 1 (Nov '14),FB VISIT,FHTA,out...</td>\n",
       "    </tr>\n",
       "    <tr>\n",
       "      <th>8</th>\n",
       "      <td>6769</td>\n",
       "      <td>&lt;541cc689818b_6f803f8c38c7514c_1_b2@app.mail&gt;</td>\n",
       "      <td>NaN</td>\n",
       "      <td>netskope.com</td>\n",
       "      <td>manny@outreach.io</td>\n",
       "      <td>1</td>\n",
       "      <td>0</td>\n",
       "      <td>0</td>\n",
       "      <td>19.0</td>\n",
       "      <td>1012.0</td>\n",
       "      <td>...</td>\n",
       "      <td>2017-07-21 08:38:19</td>\n",
       "      <td>Sales Leadership</td>\n",
       "      <td>Netskope</td>\n",
       "      <td>51.0</td>\n",
       "      <td>Computer Software</td>\n",
       "      <td>netskope.com</td>\n",
       "      <td>Los Altos</td>\n",
       "      <td>Mid-Market</td>\n",
       "      <td>1</td>\n",
       "      <td>01222015,Batch 1 (Nov '14),Colleague,Colleague...</td>\n",
       "    </tr>\n",
       "    <tr>\n",
       "      <th>9</th>\n",
       "      <td>6770</td>\n",
       "      <td>&lt;541cc6891dcd9_6f803f8c38c7514c_1_2@app.mail&gt;</td>\n",
       "      <td>NaN</td>\n",
       "      <td>mixamo.com</td>\n",
       "      <td>manny@outreach.io</td>\n",
       "      <td>1</td>\n",
       "      <td>0</td>\n",
       "      <td>0</td>\n",
       "      <td>19.0</td>\n",
       "      <td>1012.0</td>\n",
       "      <td>...</td>\n",
       "      <td>NaT</td>\n",
       "      <td>Sales Leadership</td>\n",
       "      <td>Wowzer</td>\n",
       "      <td>NaN</td>\n",
       "      <td>NaN</td>\n",
       "      <td>NaN</td>\n",
       "      <td>NaN</td>\n",
       "      <td>NaN</td>\n",
       "      <td>1</td>\n",
       "      <td>1:11242014,outbound</td>\n",
       "    </tr>\n",
       "    <tr>\n",
       "      <th>10</th>\n",
       "      <td>6771</td>\n",
       "      <td>&lt;541cc68934bce_6f803f8c38c7514c_1_f4@app.mail&gt;</td>\n",
       "      <td>NaN</td>\n",
       "      <td>financialforce.com</td>\n",
       "      <td>manny@outreach.io</td>\n",
       "      <td>1</td>\n",
       "      <td>0</td>\n",
       "      <td>0</td>\n",
       "      <td>19.0</td>\n",
       "      <td>1012.0</td>\n",
       "      <td>...</td>\n",
       "      <td>NaT</td>\n",
       "      <td>Sales Leadership</td>\n",
       "      <td>FinancialForce.com</td>\n",
       "      <td>NaN</td>\n",
       "      <td>Computer Software</td>\n",
       "      <td>FinancialForce.com</td>\n",
       "      <td>San Francisco</td>\n",
       "      <td>Commercial</td>\n",
       "      <td>1</td>\n",
       "      <td>1:11242014,Batch 1 (Nov '14),bvp300,outbound,T...</td>\n",
       "    </tr>\n",
       "    <tr>\n",
       "      <th>11</th>\n",
       "      <td>6772</td>\n",
       "      <td>&lt;541cc68949d88_6f803f8c38c7514c_1_a@app.mail&gt;</td>\n",
       "      <td>NaN</td>\n",
       "      <td>thismoment.com</td>\n",
       "      <td>manny@outreach.io</td>\n",
       "      <td>1</td>\n",
       "      <td>0</td>\n",
       "      <td>0</td>\n",
       "      <td>19.0</td>\n",
       "      <td>1012.0</td>\n",
       "      <td>...</td>\n",
       "      <td>NaT</td>\n",
       "      <td>Sales Leadership</td>\n",
       "      <td>ThisMoment</td>\n",
       "      <td>NaN</td>\n",
       "      <td>NaN</td>\n",
       "      <td>NaN</td>\n",
       "      <td>NaN</td>\n",
       "      <td>NaN</td>\n",
       "      <td>1</td>\n",
       "      <td>Batch 1 (Nov '14),esearch-test,outbound</td>\n",
       "    </tr>\n",
       "    <tr>\n",
       "      <th>12</th>\n",
       "      <td>6773</td>\n",
       "      <td>&lt;541cc6895f56c_6f803f8c38c7514c_1_a1@app.mail&gt;</td>\n",
       "      <td>NaN</td>\n",
       "      <td>completesolar.com</td>\n",
       "      <td>manny@outreach.io</td>\n",
       "      <td>1</td>\n",
       "      <td>0</td>\n",
       "      <td>0</td>\n",
       "      <td>19.0</td>\n",
       "      <td>1012.0</td>\n",
       "      <td>...</td>\n",
       "      <td>NaT</td>\n",
       "      <td>Sales Leadership</td>\n",
       "      <td>Complete Solar</td>\n",
       "      <td>NaN</td>\n",
       "      <td>Renewables &amp; Environment</td>\n",
       "      <td>completesolar.com</td>\n",
       "      <td>San Mateo</td>\n",
       "      <td>Small Business</td>\n",
       "      <td>1</td>\n",
       "      <td>1:11242014,inbound,MD-SL,outound</td>\n",
       "    </tr>\n",
       "    <tr>\n",
       "      <th>13</th>\n",
       "      <td>6774</td>\n",
       "      <td>&lt;541cc68974607_6f803f8c38c7514c_1_db@app.mail&gt;</td>\n",
       "      <td>NaN</td>\n",
       "      <td>cohodata.com</td>\n",
       "      <td>manny@outreach.io</td>\n",
       "      <td>1</td>\n",
       "      <td>0</td>\n",
       "      <td>0</td>\n",
       "      <td>19.0</td>\n",
       "      <td>1012.0</td>\n",
       "      <td>...</td>\n",
       "      <td>NaT</td>\n",
       "      <td>Sales Leadership</td>\n",
       "      <td>Wowzer</td>\n",
       "      <td>NaN</td>\n",
       "      <td>NaN</td>\n",
       "      <td>NaN</td>\n",
       "      <td>NaN</td>\n",
       "      <td>NaN</td>\n",
       "      <td>1</td>\n",
       "      <td>1:11242014,Batch 1 (Nov '14),inbound,outound,S...</td>\n",
       "    </tr>\n",
       "    <tr>\n",
       "      <th>14</th>\n",
       "      <td>6775</td>\n",
       "      <td>&lt;541cc68989ac8_6f803f8c38c7514c_1_51@app.mail&gt;</td>\n",
       "      <td>NaN</td>\n",
       "      <td>ensighten.com</td>\n",
       "      <td>manny@outreach.io</td>\n",
       "      <td>1</td>\n",
       "      <td>0</td>\n",
       "      <td>0</td>\n",
       "      <td>19.0</td>\n",
       "      <td>1012.0</td>\n",
       "      <td>...</td>\n",
       "      <td>2017-07-21 08:38:48</td>\n",
       "      <td>Sales Leadership</td>\n",
       "      <td>Ensighten LLC</td>\n",
       "      <td>NaN</td>\n",
       "      <td>Computer Software</td>\n",
       "      <td>ensighten.com</td>\n",
       "      <td>San Jose</td>\n",
       "      <td>Mid-Market</td>\n",
       "      <td>1</td>\n",
       "      <td>1:11242014,Batch 1 (Nov '14),inbound,newkris,o...</td>\n",
       "    </tr>\n",
       "    <tr>\n",
       "      <th>15</th>\n",
       "      <td>6776</td>\n",
       "      <td>&lt;541cc689a0108_6f803f8c38c7514c_1_b1@app.mail&gt;</td>\n",
       "      <td>NaN</td>\n",
       "      <td>wandisco.com</td>\n",
       "      <td>manny@outreach.io</td>\n",
       "      <td>1</td>\n",
       "      <td>0</td>\n",
       "      <td>0</td>\n",
       "      <td>19.0</td>\n",
       "      <td>1012.0</td>\n",
       "      <td>...</td>\n",
       "      <td>NaT</td>\n",
       "      <td>Sales Leadership</td>\n",
       "      <td>WANdisco</td>\n",
       "      <td>NaN</td>\n",
       "      <td>Computer Software</td>\n",
       "      <td>wandisco.com</td>\n",
       "      <td>San Ramon</td>\n",
       "      <td>Mid-Market</td>\n",
       "      <td>1</td>\n",
       "      <td>EDD,Erika-engaged,SFDC,westcoast</td>\n",
       "    </tr>\n",
       "    <tr>\n",
       "      <th>16</th>\n",
       "      <td>6777</td>\n",
       "      <td>&lt;541cc689b789d_6f803f8c38c7514c_1_7e@app.mail&gt;</td>\n",
       "      <td>NaN</td>\n",
       "      <td>drchrono.com</td>\n",
       "      <td>manny@outreach.io</td>\n",
       "      <td>1</td>\n",
       "      <td>0</td>\n",
       "      <td>0</td>\n",
       "      <td>19.0</td>\n",
       "      <td>1012.0</td>\n",
       "      <td>...</td>\n",
       "      <td>NaT</td>\n",
       "      <td>Sales Leadership</td>\n",
       "      <td>drchrono</td>\n",
       "      <td>51.0</td>\n",
       "      <td>Internet</td>\n",
       "      <td>NaN</td>\n",
       "      <td>NaN</td>\n",
       "      <td>NaN</td>\n",
       "      <td>1</td>\n",
       "      <td>01222015,1:11242014,Batch 1 (Nov '14),Colleagu...</td>\n",
       "    </tr>\n",
       "    <tr>\n",
       "      <th>17</th>\n",
       "      <td>6778</td>\n",
       "      <td>&lt;541cc689cccc3_6f803f8c38c7514c_1_97@app.mail&gt;</td>\n",
       "      <td>NaN</td>\n",
       "      <td>glassdoor.com</td>\n",
       "      <td>manny@outreach.io</td>\n",
       "      <td>1</td>\n",
       "      <td>0</td>\n",
       "      <td>0</td>\n",
       "      <td>19.0</td>\n",
       "      <td>1012.0</td>\n",
       "      <td>...</td>\n",
       "      <td>NaT</td>\n",
       "      <td>Sales Leadership</td>\n",
       "      <td>Glassdoor</td>\n",
       "      <td>NaN</td>\n",
       "      <td>Internet</td>\n",
       "      <td>glassdoor.com</td>\n",
       "      <td>Mill Valley</td>\n",
       "      <td>Commercial</td>\n",
       "      <td>1</td>\n",
       "      <td>1:11242014,Batch 1 (Nov '14),outbound</td>\n",
       "    </tr>\n",
       "    <tr>\n",
       "      <th>18</th>\n",
       "      <td>6779</td>\n",
       "      <td>&lt;541cc689e1f12_6f803f8c38c7514c_1_d3@app.mail&gt;</td>\n",
       "      <td>NaN</td>\n",
       "      <td>telx.com</td>\n",
       "      <td>manny@outreach.io</td>\n",
       "      <td>1</td>\n",
       "      <td>0</td>\n",
       "      <td>0</td>\n",
       "      <td>19.0</td>\n",
       "      <td>1012.0</td>\n",
       "      <td>...</td>\n",
       "      <td>NaT</td>\n",
       "      <td>Sales Leadership</td>\n",
       "      <td>Wowzer</td>\n",
       "      <td>NaN</td>\n",
       "      <td>NaN</td>\n",
       "      <td>NaN</td>\n",
       "      <td>NaN</td>\n",
       "      <td>NaN</td>\n",
       "      <td>1</td>\n",
       "      <td>1:11242014,Batch 1 (Nov '14),inbound,outound</td>\n",
       "    </tr>\n",
       "    <tr>\n",
       "      <th>19</th>\n",
       "      <td>6781</td>\n",
       "      <td>&lt;541cc68a1e958_6f803f8c38c7514c_1_17@app.mail&gt;</td>\n",
       "      <td>NaN</td>\n",
       "      <td>tri-ed.com</td>\n",
       "      <td>manny@outreach.io</td>\n",
       "      <td>1</td>\n",
       "      <td>0</td>\n",
       "      <td>0</td>\n",
       "      <td>19.0</td>\n",
       "      <td>1012.0</td>\n",
       "      <td>...</td>\n",
       "      <td>NaT</td>\n",
       "      <td>Sales Leadership</td>\n",
       "      <td>Tri-Ed Distribution</td>\n",
       "      <td>NaN</td>\n",
       "      <td>NaN</td>\n",
       "      <td>NaN</td>\n",
       "      <td>NaN</td>\n",
       "      <td>NaN</td>\n",
       "      <td>1</td>\n",
       "      <td>1:11242014,Batch 1 (Nov '14),inbound</td>\n",
       "    </tr>\n",
       "    <tr>\n",
       "      <th>20</th>\n",
       "      <td>6784</td>\n",
       "      <td>&lt;541cc68a69d7d_6f803f8c38c7514c_1_b9@app.mail&gt;</td>\n",
       "      <td>NaN</td>\n",
       "      <td>loia.com</td>\n",
       "      <td>manny@outreach.io</td>\n",
       "      <td>1</td>\n",
       "      <td>0</td>\n",
       "      <td>0</td>\n",
       "      <td>19.0</td>\n",
       "      <td>1012.0</td>\n",
       "      <td>...</td>\n",
       "      <td>NaT</td>\n",
       "      <td>Sales Leadership</td>\n",
       "      <td>Wowzer</td>\n",
       "      <td>NaN</td>\n",
       "      <td>Information Technology and Services</td>\n",
       "      <td>NaN</td>\n",
       "      <td>NaN</td>\n",
       "      <td>NaN</td>\n",
       "      <td>1</td>\n",
       "      <td>12162014,1:11242014,Batch 1 (Nov '14),datanyze...</td>\n",
       "    </tr>\n",
       "    <tr>\n",
       "      <th>21</th>\n",
       "      <td>6785</td>\n",
       "      <td>&lt;541cc68a8abd1_6f803f8c38c7514c_1_1c@app.mail&gt;</td>\n",
       "      <td>NaN</td>\n",
       "      <td>gmail.com</td>\n",
       "      <td>manny@outreach.io</td>\n",
       "      <td>1</td>\n",
       "      <td>0</td>\n",
       "      <td>0</td>\n",
       "      <td>19.0</td>\n",
       "      <td>1012.0</td>\n",
       "      <td>...</td>\n",
       "      <td>NaT</td>\n",
       "      <td>Sales Operations</td>\n",
       "      <td>Wowzer</td>\n",
       "      <td>NaN</td>\n",
       "      <td>NaN</td>\n",
       "      <td>NaN</td>\n",
       "      <td>NaN</td>\n",
       "      <td>NaN</td>\n",
       "      <td>1</td>\n",
       "      <td>1:11242014,Batch 1 (Nov '14),outbound</td>\n",
       "    </tr>\n",
       "    <tr>\n",
       "      <th>22</th>\n",
       "      <td>6786</td>\n",
       "      <td>&lt;541cc68aa5d3f_6f803f8c38c7514c_1_57@app.mail&gt;</td>\n",
       "      <td>NaN</td>\n",
       "      <td>gmail.com</td>\n",
       "      <td>manny@outreach.io</td>\n",
       "      <td>1</td>\n",
       "      <td>0</td>\n",
       "      <td>0</td>\n",
       "      <td>19.0</td>\n",
       "      <td>1012.0</td>\n",
       "      <td>...</td>\n",
       "      <td>NaT</td>\n",
       "      <td>Sales Operations</td>\n",
       "      <td>Wowzer</td>\n",
       "      <td>NaN</td>\n",
       "      <td>NaN</td>\n",
       "      <td>NaN</td>\n",
       "      <td>NaN</td>\n",
       "      <td>NaN</td>\n",
       "      <td>1</td>\n",
       "      <td>Batch 1 (Nov '14),inbound,outound</td>\n",
       "    </tr>\n",
       "    <tr>\n",
       "      <th>23</th>\n",
       "      <td>6788</td>\n",
       "      <td>&lt;541cc68adcc33_6f803f8c38c7514c_1_b@app.mail&gt;</td>\n",
       "      <td>NaN</td>\n",
       "      <td>gmail.com</td>\n",
       "      <td>manny@outreach.io</td>\n",
       "      <td>1</td>\n",
       "      <td>0</td>\n",
       "      <td>0</td>\n",
       "      <td>19.0</td>\n",
       "      <td>1012.0</td>\n",
       "      <td>...</td>\n",
       "      <td>NaT</td>\n",
       "      <td>Sales Operations</td>\n",
       "      <td>ThisMoment</td>\n",
       "      <td>NaN</td>\n",
       "      <td>NaN</td>\n",
       "      <td>NaN</td>\n",
       "      <td>NaN</td>\n",
       "      <td>NaN</td>\n",
       "      <td>1</td>\n",
       "      <td>Batch 1 (Nov '14),esearch-test,outbound</td>\n",
       "    </tr>\n",
       "    <tr>\n",
       "      <th>24</th>\n",
       "      <td>6789</td>\n",
       "      <td>&lt;541cc68b7ea1_6f803f8c38c7514c_1_46@app.mail&gt;</td>\n",
       "      <td>NaN</td>\n",
       "      <td>actuate.com</td>\n",
       "      <td>manny@outreach.io</td>\n",
       "      <td>1</td>\n",
       "      <td>0</td>\n",
       "      <td>0</td>\n",
       "      <td>19.0</td>\n",
       "      <td>1012.0</td>\n",
       "      <td>...</td>\n",
       "      <td>NaT</td>\n",
       "      <td>Sales Management</td>\n",
       "      <td>Actuate Corp</td>\n",
       "      <td>NaN</td>\n",
       "      <td>Computer Software</td>\n",
       "      <td>actuate.com</td>\n",
       "      <td>San Mateo</td>\n",
       "      <td>Commercial</td>\n",
       "      <td>1</td>\n",
       "      <td>Dreamforce - Sales - Dinner,NO LONGER WITH COM...</td>\n",
       "    </tr>\n",
       "    <tr>\n",
       "      <th>25</th>\n",
       "      <td>6790</td>\n",
       "      <td>&lt;541cc68b2032e_6f803f8c38c7514c_1_f9@app.mail&gt;</td>\n",
       "      <td>NaN</td>\n",
       "      <td>grimco.com</td>\n",
       "      <td>manny@outreach.io</td>\n",
       "      <td>1</td>\n",
       "      <td>0</td>\n",
       "      <td>0</td>\n",
       "      <td>19.0</td>\n",
       "      <td>1012.0</td>\n",
       "      <td>...</td>\n",
       "      <td>NaT</td>\n",
       "      <td>Sales Operations</td>\n",
       "      <td>Wowzer</td>\n",
       "      <td>NaN</td>\n",
       "      <td>NaN</td>\n",
       "      <td>NaN</td>\n",
       "      <td>NaN</td>\n",
       "      <td>NaN</td>\n",
       "      <td>1</td>\n",
       "      <td>1:11242014,inbound</td>\n",
       "    </tr>\n",
       "    <tr>\n",
       "      <th>26</th>\n",
       "      <td>6791</td>\n",
       "      <td>&lt;541cc68b3610a_6f803f8c38c7514c_1_38@app.mail&gt;</td>\n",
       "      <td>NaN</td>\n",
       "      <td>zendesk.com</td>\n",
       "      <td>manny@outreach.io</td>\n",
       "      <td>1</td>\n",
       "      <td>0</td>\n",
       "      <td>0</td>\n",
       "      <td>19.0</td>\n",
       "      <td>1012.0</td>\n",
       "      <td>...</td>\n",
       "      <td>NaT</td>\n",
       "      <td>Sales Operations</td>\n",
       "      <td>Zendesk, Inc.</td>\n",
       "      <td>NaN</td>\n",
       "      <td>Computer Software</td>\n",
       "      <td>www.zendesk.com</td>\n",
       "      <td>San Francisco</td>\n",
       "      <td>Commercial</td>\n",
       "      <td>1</td>\n",
       "      <td>Alex's Prospects,inbound,outound,Sales Operati...</td>\n",
       "    </tr>\n",
       "    <tr>\n",
       "      <th>27</th>\n",
       "      <td>6792</td>\n",
       "      <td>&lt;541cc68b4beb6_6f803f8c38c7514c_1_7e@app.mail&gt;</td>\n",
       "      <td>NaN</td>\n",
       "      <td>demandforce.com</td>\n",
       "      <td>manny@outreach.io</td>\n",
       "      <td>1</td>\n",
       "      <td>0</td>\n",
       "      <td>0</td>\n",
       "      <td>19.0</td>\n",
       "      <td>1012.0</td>\n",
       "      <td>...</td>\n",
       "      <td>NaT</td>\n",
       "      <td>Sales Operations</td>\n",
       "      <td>NaN</td>\n",
       "      <td>NaN</td>\n",
       "      <td>NaN</td>\n",
       "      <td>NaN</td>\n",
       "      <td>NaN</td>\n",
       "      <td>NaN</td>\n",
       "      <td>1</td>\n",
       "      <td>Batch 1 (Nov '14),esearch-test,outbound</td>\n",
       "    </tr>\n",
       "    <tr>\n",
       "      <th>28</th>\n",
       "      <td>6793</td>\n",
       "      <td>&lt;541cc68b614ed_6f803f8c38c7514c_1_26@app.mail&gt;</td>\n",
       "      <td>NaN</td>\n",
       "      <td>adroll.com</td>\n",
       "      <td>manny@outreach.io</td>\n",
       "      <td>1</td>\n",
       "      <td>0</td>\n",
       "      <td>0</td>\n",
       "      <td>19.0</td>\n",
       "      <td>1012.0</td>\n",
       "      <td>...</td>\n",
       "      <td>NaT</td>\n",
       "      <td>Sales Operations</td>\n",
       "      <td>AdRoll</td>\n",
       "      <td>NaN</td>\n",
       "      <td>Marketing and Advertising</td>\n",
       "      <td>adroll.com</td>\n",
       "      <td>San Francisco</td>\n",
       "      <td>Commercial</td>\n",
       "      <td>1</td>\n",
       "      <td>outbound,shop.org</td>\n",
       "    </tr>\n",
       "    <tr>\n",
       "      <th>29</th>\n",
       "      <td>6794</td>\n",
       "      <td>&lt;541cc68b77883_6f803f8c38c7514c_1_a7@app.mail&gt;</td>\n",
       "      <td>NaN</td>\n",
       "      <td>fusionstorm.com</td>\n",
       "      <td>manny@outreach.io</td>\n",
       "      <td>1</td>\n",
       "      <td>0</td>\n",
       "      <td>0</td>\n",
       "      <td>19.0</td>\n",
       "      <td>1012.0</td>\n",
       "      <td>...</td>\n",
       "      <td>NaT</td>\n",
       "      <td>Sales Operations</td>\n",
       "      <td>Wowzer</td>\n",
       "      <td>NaN</td>\n",
       "      <td>NaN</td>\n",
       "      <td>NaN</td>\n",
       "      <td>NaN</td>\n",
       "      <td>NaN</td>\n",
       "      <td>1</td>\n",
       "      <td>1:11242014,Batch 1 (Nov '14),outbound</td>\n",
       "    </tr>\n",
       "    <tr>\n",
       "      <th>30</th>\n",
       "      <td>6795</td>\n",
       "      <td>&lt;541cc68b8f30b_6f803f8c38c7514c_1_72@app.mail&gt;</td>\n",
       "      <td>NaN</td>\n",
       "      <td>sbcglobal.net</td>\n",
       "      <td>manny@outreach.io</td>\n",
       "      <td>1</td>\n",
       "      <td>0</td>\n",
       "      <td>0</td>\n",
       "      <td>19.0</td>\n",
       "      <td>1012.0</td>\n",
       "      <td>...</td>\n",
       "      <td>NaT</td>\n",
       "      <td>Sales Operations</td>\n",
       "      <td>Wowzer</td>\n",
       "      <td>NaN</td>\n",
       "      <td>NaN</td>\n",
       "      <td>NaN</td>\n",
       "      <td>NaN</td>\n",
       "      <td>NaN</td>\n",
       "      <td>1</td>\n",
       "      <td>1:11242014,outbound</td>\n",
       "    </tr>\n",
       "    <tr>\n",
       "      <th>31</th>\n",
       "      <td>6796</td>\n",
       "      <td>&lt;541cc68ba4adf_6f803f8c38c7514c_1_f5@app.mail&gt;</td>\n",
       "      <td>NaN</td>\n",
       "      <td>qualys.com</td>\n",
       "      <td>manny@outreach.io</td>\n",
       "      <td>1</td>\n",
       "      <td>0</td>\n",
       "      <td>0</td>\n",
       "      <td>19.0</td>\n",
       "      <td>1012.0</td>\n",
       "      <td>...</td>\n",
       "      <td>NaT</td>\n",
       "      <td>Sales Operations</td>\n",
       "      <td>Qualys</td>\n",
       "      <td>NaN</td>\n",
       "      <td>Computer &amp; Network Security</td>\n",
       "      <td>qualys.com</td>\n",
       "      <td>Redwood City</td>\n",
       "      <td>Mid-Market</td>\n",
       "      <td>1</td>\n",
       "      <td>esearch-test,outbound</td>\n",
       "    </tr>\n",
       "    <tr>\n",
       "      <th>32</th>\n",
       "      <td>6797</td>\n",
       "      <td>&lt;541cc68bba1dd_6f803f8c38c7514c_1_f6@app.mail&gt;</td>\n",
       "      <td>NaN</td>\n",
       "      <td>chargepoint.com</td>\n",
       "      <td>manny@outreach.io</td>\n",
       "      <td>1</td>\n",
       "      <td>0</td>\n",
       "      <td>0</td>\n",
       "      <td>19.0</td>\n",
       "      <td>1012.0</td>\n",
       "      <td>...</td>\n",
       "      <td>NaT</td>\n",
       "      <td>Sales Operations</td>\n",
       "      <td>Wowzer</td>\n",
       "      <td>NaN</td>\n",
       "      <td>NaN</td>\n",
       "      <td>NaN</td>\n",
       "      <td>NaN</td>\n",
       "      <td>NaN</td>\n",
       "      <td>1</td>\n",
       "      <td>1:11242014,Batch 1 (Nov '14),inbound,outound</td>\n",
       "    </tr>\n",
       "    <tr>\n",
       "      <th>33</th>\n",
       "      <td>6798</td>\n",
       "      <td>&lt;541cc68bcf553_6f803f8c38c7514c_1_96@app.mail&gt;</td>\n",
       "      <td>NaN</td>\n",
       "      <td>idbs.com</td>\n",
       "      <td>manny@outreach.io</td>\n",
       "      <td>1</td>\n",
       "      <td>0</td>\n",
       "      <td>0</td>\n",
       "      <td>19.0</td>\n",
       "      <td>1012.0</td>\n",
       "      <td>...</td>\n",
       "      <td>NaT</td>\n",
       "      <td>Sales Operations</td>\n",
       "      <td>Wowzer</td>\n",
       "      <td>NaN</td>\n",
       "      <td>NaN</td>\n",
       "      <td>NaN</td>\n",
       "      <td>NaN</td>\n",
       "      <td>NaN</td>\n",
       "      <td>1</td>\n",
       "      <td>1:11242014,outbound</td>\n",
       "    </tr>\n",
       "    <tr>\n",
       "      <th>34</th>\n",
       "      <td>6799</td>\n",
       "      <td>&lt;541cc68be4d07_6f803f8c38c7514c_1_ac@app.mail&gt;</td>\n",
       "      <td>NaN</td>\n",
       "      <td>adroll.com</td>\n",
       "      <td>manny@outreach.io</td>\n",
       "      <td>1</td>\n",
       "      <td>0</td>\n",
       "      <td>0</td>\n",
       "      <td>19.0</td>\n",
       "      <td>1012.0</td>\n",
       "      <td>...</td>\n",
       "      <td>NaT</td>\n",
       "      <td>Sales Leadership</td>\n",
       "      <td>AdRoll</td>\n",
       "      <td>NaN</td>\n",
       "      <td>Marketing and Advertising</td>\n",
       "      <td>adroll.com</td>\n",
       "      <td>San Francisco</td>\n",
       "      <td>Commercial</td>\n",
       "      <td>1</td>\n",
       "      <td>Get To Demo,outbound,shop.org</td>\n",
       "    </tr>\n",
       "    <tr>\n",
       "      <th>35</th>\n",
       "      <td>6800</td>\n",
       "      <td>&lt;541cc68c9433_6f803f8c38c7514c_1_eb@app.mail&gt;</td>\n",
       "      <td>NaN</td>\n",
       "      <td>drobo.com</td>\n",
       "      <td>manny@outreach.io</td>\n",
       "      <td>1</td>\n",
       "      <td>0</td>\n",
       "      <td>0</td>\n",
       "      <td>19.0</td>\n",
       "      <td>1012.0</td>\n",
       "      <td>...</td>\n",
       "      <td>NaT</td>\n",
       "      <td>Sales Operations</td>\n",
       "      <td>Wowzer</td>\n",
       "      <td>NaN</td>\n",
       "      <td>NaN</td>\n",
       "      <td>NaN</td>\n",
       "      <td>NaN</td>\n",
       "      <td>NaN</td>\n",
       "      <td>1</td>\n",
       "      <td>1:11242014,Batch 1 (Nov '14),outbound</td>\n",
       "    </tr>\n",
       "    <tr>\n",
       "      <th>36</th>\n",
       "      <td>6801</td>\n",
       "      <td>&lt;541cc68c1f906_6f803f8c38c7514c_1_c2@app.mail&gt;</td>\n",
       "      <td>NaN</td>\n",
       "      <td>datastax.com</td>\n",
       "      <td>manny@outreach.io</td>\n",
       "      <td>1</td>\n",
       "      <td>0</td>\n",
       "      <td>0</td>\n",
       "      <td>19.0</td>\n",
       "      <td>1012.0</td>\n",
       "      <td>...</td>\n",
       "      <td>NaT</td>\n",
       "      <td>Sales Operations</td>\n",
       "      <td>Wowzer</td>\n",
       "      <td>NaN</td>\n",
       "      <td>NaN</td>\n",
       "      <td>NaN</td>\n",
       "      <td>NaN</td>\n",
       "      <td>NaN</td>\n",
       "      <td>1</td>\n",
       "      <td>1:11242014,Batch 1 (Nov '14),inbound,outound</td>\n",
       "    </tr>\n",
       "    <tr>\n",
       "      <th>37</th>\n",
       "      <td>6802</td>\n",
       "      <td>&lt;541ccb4a84ab8_38983f994f3582d4_1_21@worker.mail&gt;</td>\n",
       "      <td>NaN</td>\n",
       "      <td>ensighten.com</td>\n",
       "      <td>manny@outreach.io</td>\n",
       "      <td>1</td>\n",
       "      <td>0</td>\n",
       "      <td>0</td>\n",
       "      <td>NaN</td>\n",
       "      <td>503.0</td>\n",
       "      <td>...</td>\n",
       "      <td>2017-07-21 08:38:48</td>\n",
       "      <td>Sales Leadership</td>\n",
       "      <td>Ensighten LLC</td>\n",
       "      <td>NaN</td>\n",
       "      <td>Computer Software</td>\n",
       "      <td>ensighten.com</td>\n",
       "      <td>San Jose</td>\n",
       "      <td>Mid-Market</td>\n",
       "      <td>2</td>\n",
       "      <td>1:11242014,Batch 1 (Nov '14),inbound,newkris,o...</td>\n",
       "    </tr>\n",
       "    <tr>\n",
       "      <th>38</th>\n",
       "      <td>6804</td>\n",
       "      <td>&lt;541ccb4ae2636_38983f994f49cf78_1_7b@worker.mail&gt;</td>\n",
       "      <td>NaN</td>\n",
       "      <td>zendesk.com</td>\n",
       "      <td>manny@outreach.io</td>\n",
       "      <td>1</td>\n",
       "      <td>0</td>\n",
       "      <td>0</td>\n",
       "      <td>NaN</td>\n",
       "      <td>503.0</td>\n",
       "      <td>...</td>\n",
       "      <td>NaT</td>\n",
       "      <td>Sales Operations</td>\n",
       "      <td>Zendesk, Inc.</td>\n",
       "      <td>NaN</td>\n",
       "      <td>Computer Software</td>\n",
       "      <td>www.zendesk.com</td>\n",
       "      <td>San Francisco</td>\n",
       "      <td>Commercial</td>\n",
       "      <td>2</td>\n",
       "      <td>Alex's Prospects,inbound,outound,Sales Operati...</td>\n",
       "    </tr>\n",
       "    <tr>\n",
       "      <th>39</th>\n",
       "      <td>6805</td>\n",
       "      <td>&lt;541ccb4b494b1_389c3ff0c9ece22c_1_c1@worker.mail&gt;</td>\n",
       "      <td>NaN</td>\n",
       "      <td>glassdoor.com</td>\n",
       "      <td>manny@outreach.io</td>\n",
       "      <td>1</td>\n",
       "      <td>0</td>\n",
       "      <td>0</td>\n",
       "      <td>NaN</td>\n",
       "      <td>503.0</td>\n",
       "      <td>...</td>\n",
       "      <td>NaT</td>\n",
       "      <td>Sales Leadership</td>\n",
       "      <td>Glassdoor</td>\n",
       "      <td>NaN</td>\n",
       "      <td>Internet</td>\n",
       "      <td>glassdoor.com</td>\n",
       "      <td>Mill Valley</td>\n",
       "      <td>Commercial</td>\n",
       "      <td>2</td>\n",
       "      <td>1:11242014,Batch 1 (Nov '14),outbound</td>\n",
       "    </tr>\n",
       "    <tr>\n",
       "      <th>40</th>\n",
       "      <td>6806</td>\n",
       "      <td>&lt;541ccb4ba115e_389c3ff0cd1e6650_1_b9@worker.mail&gt;</td>\n",
       "      <td>NaN</td>\n",
       "      <td>mashery.com</td>\n",
       "      <td>manny@outreach.io</td>\n",
       "      <td>1</td>\n",
       "      <td>0</td>\n",
       "      <td>0</td>\n",
       "      <td>NaN</td>\n",
       "      <td>503.0</td>\n",
       "      <td>...</td>\n",
       "      <td>2015-02-06 02:40:12</td>\n",
       "      <td>Sales Leadership</td>\n",
       "      <td>Mashery</td>\n",
       "      <td>NaN</td>\n",
       "      <td>NaN</td>\n",
       "      <td>NaN</td>\n",
       "      <td>NaN</td>\n",
       "      <td>NaN</td>\n",
       "      <td>2</td>\n",
       "      <td>1:11242014,outbound</td>\n",
       "    </tr>\n",
       "    <tr>\n",
       "      <th>41</th>\n",
       "      <td>6807</td>\n",
       "      <td>&lt;541ccb4c19b3b_389c3ff0ca0f891c_1_2f@worker.mail&gt;</td>\n",
       "      <td>NaN</td>\n",
       "      <td>thismoment.com</td>\n",
       "      <td>manny@outreach.io</td>\n",
       "      <td>1</td>\n",
       "      <td>0</td>\n",
       "      <td>0</td>\n",
       "      <td>NaN</td>\n",
       "      <td>503.0</td>\n",
       "      <td>...</td>\n",
       "      <td>NaT</td>\n",
       "      <td>Sales Leadership</td>\n",
       "      <td>ThisMoment</td>\n",
       "      <td>NaN</td>\n",
       "      <td>NaN</td>\n",
       "      <td>NaN</td>\n",
       "      <td>NaN</td>\n",
       "      <td>NaN</td>\n",
       "      <td>2</td>\n",
       "      <td>Batch 1 (Nov '14),esearch-test,outbound</td>\n",
       "    </tr>\n",
       "    <tr>\n",
       "      <th>42</th>\n",
       "      <td>6809</td>\n",
       "      <td>&lt;541ccb4cc7e13_389c3ff0ca0c5058_1_db@worker.mail&gt;</td>\n",
       "      <td>NaN</td>\n",
       "      <td>doubledutch.me</td>\n",
       "      <td>manny@outreach.io</td>\n",
       "      <td>1</td>\n",
       "      <td>0</td>\n",
       "      <td>0</td>\n",
       "      <td>NaN</td>\n",
       "      <td>503.0</td>\n",
       "      <td>...</td>\n",
       "      <td>NaT</td>\n",
       "      <td>Sales Leadership</td>\n",
       "      <td>DoubleDutch</td>\n",
       "      <td>51.0</td>\n",
       "      <td>Computer Software</td>\n",
       "      <td>www.doubledutch.me</td>\n",
       "      <td>San Francisco</td>\n",
       "      <td>Mid-Market</td>\n",
       "      <td>2</td>\n",
       "      <td>01222015,angel,Colleague,Colleague562,double d...</td>\n",
       "    </tr>\n",
       "    <tr>\n",
       "      <th>43</th>\n",
       "      <td>6810</td>\n",
       "      <td>&lt;541ccb4d178c5_38983f994f350160_1_f5@worker.mail&gt;</td>\n",
       "      <td>NaN</td>\n",
       "      <td>mixamo.com</td>\n",
       "      <td>manny@outreach.io</td>\n",
       "      <td>1</td>\n",
       "      <td>0</td>\n",
       "      <td>0</td>\n",
       "      <td>NaN</td>\n",
       "      <td>503.0</td>\n",
       "      <td>...</td>\n",
       "      <td>NaT</td>\n",
       "      <td>Sales Leadership</td>\n",
       "      <td>Wowzer</td>\n",
       "      <td>NaN</td>\n",
       "      <td>NaN</td>\n",
       "      <td>NaN</td>\n",
       "      <td>NaN</td>\n",
       "      <td>NaN</td>\n",
       "      <td>2</td>\n",
       "      <td>1:11242014,outbound</td>\n",
       "    </tr>\n",
       "    <tr>\n",
       "      <th>44</th>\n",
       "      <td>6811</td>\n",
       "      <td>&lt;541ccb4d656cd_38983f994f48cba0_1_f8@worker.mail&gt;</td>\n",
       "      <td>NaN</td>\n",
       "      <td>maprtech.com</td>\n",
       "      <td>manny@outreach.io</td>\n",
       "      <td>1</td>\n",
       "      <td>0</td>\n",
       "      <td>0</td>\n",
       "      <td>NaN</td>\n",
       "      <td>503.0</td>\n",
       "      <td>...</td>\n",
       "      <td>2014-12-12 15:10:37</td>\n",
       "      <td>Sales Leadership</td>\n",
       "      <td>MapR Technologies</td>\n",
       "      <td>NaN</td>\n",
       "      <td>NaN</td>\n",
       "      <td>NaN</td>\n",
       "      <td>NaN</td>\n",
       "      <td>NaN</td>\n",
       "      <td>2</td>\n",
       "      <td>1:11242014,outbound</td>\n",
       "    </tr>\n",
       "    <tr>\n",
       "      <th>45</th>\n",
       "      <td>6812</td>\n",
       "      <td>&lt;541ccb4dc6df9_38983f994f6bad8c_1_e8@worker.mail&gt;</td>\n",
       "      <td>NaN</td>\n",
       "      <td>yahoo.com</td>\n",
       "      <td>manny@outreach.io</td>\n",
       "      <td>1</td>\n",
       "      <td>0</td>\n",
       "      <td>0</td>\n",
       "      <td>NaN</td>\n",
       "      <td>503.0</td>\n",
       "      <td>...</td>\n",
       "      <td>NaT</td>\n",
       "      <td>Sales Leadership</td>\n",
       "      <td>Rocket Lawyer</td>\n",
       "      <td>NaN</td>\n",
       "      <td>Internet</td>\n",
       "      <td>rocketlawyer.com</td>\n",
       "      <td>San Francisco</td>\n",
       "      <td>Mid-Market</td>\n",
       "      <td>2</td>\n",
       "      <td>1:11242014,Batch 1 (Nov '14),FB VISIT,FHTA,out...</td>\n",
       "    </tr>\n",
       "    <tr>\n",
       "      <th>46</th>\n",
       "      <td>6813</td>\n",
       "      <td>&lt;541ccb4e3c6f8_38983f994f557198_1_5@worker.mail&gt;</td>\n",
       "      <td>NaN</td>\n",
       "      <td>cohodata.com</td>\n",
       "      <td>manny@outreach.io</td>\n",
       "      <td>1</td>\n",
       "      <td>0</td>\n",
       "      <td>0</td>\n",
       "      <td>NaN</td>\n",
       "      <td>503.0</td>\n",
       "      <td>...</td>\n",
       "      <td>NaT</td>\n",
       "      <td>Sales Leadership</td>\n",
       "      <td>Wowzer</td>\n",
       "      <td>NaN</td>\n",
       "      <td>NaN</td>\n",
       "      <td>NaN</td>\n",
       "      <td>NaN</td>\n",
       "      <td>NaN</td>\n",
       "      <td>2</td>\n",
       "      <td>1:11242014,Batch 1 (Nov '14),inbound,outound,S...</td>\n",
       "    </tr>\n",
       "    <tr>\n",
       "      <th>47</th>\n",
       "      <td>6814</td>\n",
       "      <td>&lt;541ccb855af80_38983f994f49cf78_1_34@worker.mail&gt;</td>\n",
       "      <td>NaN</td>\n",
       "      <td>sbcglobal.net</td>\n",
       "      <td>manny@outreach.io</td>\n",
       "      <td>1</td>\n",
       "      <td>0</td>\n",
       "      <td>0</td>\n",
       "      <td>NaN</td>\n",
       "      <td>503.0</td>\n",
       "      <td>...</td>\n",
       "      <td>NaT</td>\n",
       "      <td>Sales Operations</td>\n",
       "      <td>Wowzer</td>\n",
       "      <td>NaN</td>\n",
       "      <td>NaN</td>\n",
       "      <td>NaN</td>\n",
       "      <td>NaN</td>\n",
       "      <td>NaN</td>\n",
       "      <td>2</td>\n",
       "      <td>1:11242014,outbound</td>\n",
       "    </tr>\n",
       "    <tr>\n",
       "      <th>48</th>\n",
       "      <td>6815</td>\n",
       "      <td>&lt;541ccb85b8119_38983f994f50c864_1_b6@worker.mail&gt;</td>\n",
       "      <td>NaN</td>\n",
       "      <td>telx.com</td>\n",
       "      <td>manny@outreach.io</td>\n",
       "      <td>1</td>\n",
       "      <td>0</td>\n",
       "      <td>0</td>\n",
       "      <td>NaN</td>\n",
       "      <td>503.0</td>\n",
       "      <td>...</td>\n",
       "      <td>NaT</td>\n",
       "      <td>Sales Leadership</td>\n",
       "      <td>Wowzer</td>\n",
       "      <td>NaN</td>\n",
       "      <td>NaN</td>\n",
       "      <td>NaN</td>\n",
       "      <td>NaN</td>\n",
       "      <td>NaN</td>\n",
       "      <td>2</td>\n",
       "      <td>1:11242014,Batch 1 (Nov '14),inbound,outound</td>\n",
       "    </tr>\n",
       "    <tr>\n",
       "      <th>49</th>\n",
       "      <td>6816</td>\n",
       "      <td>&lt;541ccb8632eb3_389c3ff0ca0c5058_1_ef@worker.mail&gt;</td>\n",
       "      <td>NaN</td>\n",
       "      <td>idbs.com</td>\n",
       "      <td>manny@outreach.io</td>\n",
       "      <td>1</td>\n",
       "      <td>0</td>\n",
       "      <td>0</td>\n",
       "      <td>NaN</td>\n",
       "      <td>503.0</td>\n",
       "      <td>...</td>\n",
       "      <td>NaT</td>\n",
       "      <td>Sales Operations</td>\n",
       "      <td>Wowzer</td>\n",
       "      <td>NaN</td>\n",
       "      <td>NaN</td>\n",
       "      <td>NaN</td>\n",
       "      <td>NaN</td>\n",
       "      <td>NaN</td>\n",
       "      <td>2</td>\n",
       "      <td>1:11242014,outbound</td>\n",
       "    </tr>\n",
       "  </tbody>\n",
       "</table>\n",
       "<p>50 rows × 44 columns</p>\n",
       "</div>"
      ],
      "text/plain": [
       "      id                                         message_id parent_message_id  \\\n",
       "0   6756     <541c38a863c25_5ad93fae6971f12c_1_67@app.mail>               NaN   \n",
       "1   6757  <541c530d33a3e_38983f994f693278_1_e4@worker.mail>               NaN   \n",
       "2   6762     <541cc6885b944_6f803f8c38c7514c_1_63@app.mail>               NaN   \n",
       "3   6763     <541cc68876a28_6f803f8c38c7514c_1_3b@app.mail>               NaN   \n",
       "4   6764     <541cc6888fc74_6f803f8c38c7514c_1_35@app.mail>               NaN   \n",
       "5   6765     <541cc688a5c46_6f803f8c38c7514c_1_b1@app.mail>               NaN   \n",
       "6   6767     <541cc688d000c_6f803f8c38c7514c_1_d3@app.mail>               NaN   \n",
       "7   6768     <541cc688e5de9_6f803f8c38c7514c_1_61@app.mail>               NaN   \n",
       "8   6769      <541cc689818b_6f803f8c38c7514c_1_b2@app.mail>               NaN   \n",
       "9   6770      <541cc6891dcd9_6f803f8c38c7514c_1_2@app.mail>               NaN   \n",
       "10  6771     <541cc68934bce_6f803f8c38c7514c_1_f4@app.mail>               NaN   \n",
       "11  6772      <541cc68949d88_6f803f8c38c7514c_1_a@app.mail>               NaN   \n",
       "12  6773     <541cc6895f56c_6f803f8c38c7514c_1_a1@app.mail>               NaN   \n",
       "13  6774     <541cc68974607_6f803f8c38c7514c_1_db@app.mail>               NaN   \n",
       "14  6775     <541cc68989ac8_6f803f8c38c7514c_1_51@app.mail>               NaN   \n",
       "15  6776     <541cc689a0108_6f803f8c38c7514c_1_b1@app.mail>               NaN   \n",
       "16  6777     <541cc689b789d_6f803f8c38c7514c_1_7e@app.mail>               NaN   \n",
       "17  6778     <541cc689cccc3_6f803f8c38c7514c_1_97@app.mail>               NaN   \n",
       "18  6779     <541cc689e1f12_6f803f8c38c7514c_1_d3@app.mail>               NaN   \n",
       "19  6781     <541cc68a1e958_6f803f8c38c7514c_1_17@app.mail>               NaN   \n",
       "20  6784     <541cc68a69d7d_6f803f8c38c7514c_1_b9@app.mail>               NaN   \n",
       "21  6785     <541cc68a8abd1_6f803f8c38c7514c_1_1c@app.mail>               NaN   \n",
       "22  6786     <541cc68aa5d3f_6f803f8c38c7514c_1_57@app.mail>               NaN   \n",
       "23  6788      <541cc68adcc33_6f803f8c38c7514c_1_b@app.mail>               NaN   \n",
       "24  6789      <541cc68b7ea1_6f803f8c38c7514c_1_46@app.mail>               NaN   \n",
       "25  6790     <541cc68b2032e_6f803f8c38c7514c_1_f9@app.mail>               NaN   \n",
       "26  6791     <541cc68b3610a_6f803f8c38c7514c_1_38@app.mail>               NaN   \n",
       "27  6792     <541cc68b4beb6_6f803f8c38c7514c_1_7e@app.mail>               NaN   \n",
       "28  6793     <541cc68b614ed_6f803f8c38c7514c_1_26@app.mail>               NaN   \n",
       "29  6794     <541cc68b77883_6f803f8c38c7514c_1_a7@app.mail>               NaN   \n",
       "30  6795     <541cc68b8f30b_6f803f8c38c7514c_1_72@app.mail>               NaN   \n",
       "31  6796     <541cc68ba4adf_6f803f8c38c7514c_1_f5@app.mail>               NaN   \n",
       "32  6797     <541cc68bba1dd_6f803f8c38c7514c_1_f6@app.mail>               NaN   \n",
       "33  6798     <541cc68bcf553_6f803f8c38c7514c_1_96@app.mail>               NaN   \n",
       "34  6799     <541cc68be4d07_6f803f8c38c7514c_1_ac@app.mail>               NaN   \n",
       "35  6800      <541cc68c9433_6f803f8c38c7514c_1_eb@app.mail>               NaN   \n",
       "36  6801     <541cc68c1f906_6f803f8c38c7514c_1_c2@app.mail>               NaN   \n",
       "37  6802  <541ccb4a84ab8_38983f994f3582d4_1_21@worker.mail>               NaN   \n",
       "38  6804  <541ccb4ae2636_38983f994f49cf78_1_7b@worker.mail>               NaN   \n",
       "39  6805  <541ccb4b494b1_389c3ff0c9ece22c_1_c1@worker.mail>               NaN   \n",
       "40  6806  <541ccb4ba115e_389c3ff0cd1e6650_1_b9@worker.mail>               NaN   \n",
       "41  6807  <541ccb4c19b3b_389c3ff0ca0f891c_1_2f@worker.mail>               NaN   \n",
       "42  6809  <541ccb4cc7e13_389c3ff0ca0c5058_1_db@worker.mail>               NaN   \n",
       "43  6810  <541ccb4d178c5_38983f994f350160_1_f5@worker.mail>               NaN   \n",
       "44  6811  <541ccb4d656cd_38983f994f48cba0_1_f8@worker.mail>               NaN   \n",
       "45  6812  <541ccb4dc6df9_38983f994f6bad8c_1_e8@worker.mail>               NaN   \n",
       "46  6813   <541ccb4e3c6f8_38983f994f557198_1_5@worker.mail>               NaN   \n",
       "47  6814  <541ccb855af80_38983f994f49cf78_1_34@worker.mail>               NaN   \n",
       "48  6815  <541ccb85b8119_38983f994f50c864_1_b6@worker.mail>               NaN   \n",
       "49  6816  <541ccb8632eb3_389c3ff0ca0c5058_1_ef@worker.mail>               NaN   \n",
       "\n",
       "             to_domain               from  is_thread_reply  \\\n",
       "0         birchbox.com  manny@outreach.io                1   \n",
       "1         birchbox.com  manny@outreach.io                1   \n",
       "2    customerlobby.com  manny@outreach.io                1   \n",
       "3       doubledutch.me  manny@outreach.io                1   \n",
       "4         maprtech.com  manny@outreach.io                1   \n",
       "5          opendns.com  manny@outreach.io                1   \n",
       "6          mashery.com  manny@outreach.io                1   \n",
       "7            yahoo.com  manny@outreach.io                1   \n",
       "8         netskope.com  manny@outreach.io                1   \n",
       "9           mixamo.com  manny@outreach.io                1   \n",
       "10  financialforce.com  manny@outreach.io                1   \n",
       "11      thismoment.com  manny@outreach.io                1   \n",
       "12   completesolar.com  manny@outreach.io                1   \n",
       "13        cohodata.com  manny@outreach.io                1   \n",
       "14       ensighten.com  manny@outreach.io                1   \n",
       "15        wandisco.com  manny@outreach.io                1   \n",
       "16        drchrono.com  manny@outreach.io                1   \n",
       "17       glassdoor.com  manny@outreach.io                1   \n",
       "18            telx.com  manny@outreach.io                1   \n",
       "19          tri-ed.com  manny@outreach.io                1   \n",
       "20            loia.com  manny@outreach.io                1   \n",
       "21           gmail.com  manny@outreach.io                1   \n",
       "22           gmail.com  manny@outreach.io                1   \n",
       "23           gmail.com  manny@outreach.io                1   \n",
       "24         actuate.com  manny@outreach.io                1   \n",
       "25          grimco.com  manny@outreach.io                1   \n",
       "26         zendesk.com  manny@outreach.io                1   \n",
       "27     demandforce.com  manny@outreach.io                1   \n",
       "28          adroll.com  manny@outreach.io                1   \n",
       "29     fusionstorm.com  manny@outreach.io                1   \n",
       "30       sbcglobal.net  manny@outreach.io                1   \n",
       "31          qualys.com  manny@outreach.io                1   \n",
       "32     chargepoint.com  manny@outreach.io                1   \n",
       "33            idbs.com  manny@outreach.io                1   \n",
       "34          adroll.com  manny@outreach.io                1   \n",
       "35           drobo.com  manny@outreach.io                1   \n",
       "36        datastax.com  manny@outreach.io                1   \n",
       "37       ensighten.com  manny@outreach.io                1   \n",
       "38         zendesk.com  manny@outreach.io                1   \n",
       "39       glassdoor.com  manny@outreach.io                1   \n",
       "40         mashery.com  manny@outreach.io                1   \n",
       "41      thismoment.com  manny@outreach.io                1   \n",
       "42      doubledutch.me  manny@outreach.io                1   \n",
       "43          mixamo.com  manny@outreach.io                1   \n",
       "44        maprtech.com  manny@outreach.io                1   \n",
       "45           yahoo.com  manny@outreach.io                1   \n",
       "46        cohodata.com  manny@outreach.io                1   \n",
       "47       sbcglobal.net  manny@outreach.io                1   \n",
       "48            telx.com  manny@outreach.io                1   \n",
       "49            idbs.com  manny@outreach.io                1   \n",
       "\n",
       "    subject_customized  body_customized  subject_length  body_length  ...  \\\n",
       "0                    0                0            33.0        850.0  ...   \n",
       "1                    0                0             NaN        249.0  ...   \n",
       "2                    0                0            19.0       1012.0  ...   \n",
       "3                    0                0            19.0       1012.0  ...   \n",
       "4                    0                0            19.0       1012.0  ...   \n",
       "5                    0                0            19.0       1012.0  ...   \n",
       "6                    0                0            19.0       1012.0  ...   \n",
       "7                    0                0            19.0       1012.0  ...   \n",
       "8                    0                0            19.0       1012.0  ...   \n",
       "9                    0                0            19.0       1012.0  ...   \n",
       "10                   0                0            19.0       1012.0  ...   \n",
       "11                   0                0            19.0       1012.0  ...   \n",
       "12                   0                0            19.0       1012.0  ...   \n",
       "13                   0                0            19.0       1012.0  ...   \n",
       "14                   0                0            19.0       1012.0  ...   \n",
       "15                   0                0            19.0       1012.0  ...   \n",
       "16                   0                0            19.0       1012.0  ...   \n",
       "17                   0                0            19.0       1012.0  ...   \n",
       "18                   0                0            19.0       1012.0  ...   \n",
       "19                   0                0            19.0       1012.0  ...   \n",
       "20                   0                0            19.0       1012.0  ...   \n",
       "21                   0                0            19.0       1012.0  ...   \n",
       "22                   0                0            19.0       1012.0  ...   \n",
       "23                   0                0            19.0       1012.0  ...   \n",
       "24                   0                0            19.0       1012.0  ...   \n",
       "25                   0                0            19.0       1012.0  ...   \n",
       "26                   0                0            19.0       1012.0  ...   \n",
       "27                   0                0            19.0       1012.0  ...   \n",
       "28                   0                0            19.0       1012.0  ...   \n",
       "29                   0                0            19.0       1012.0  ...   \n",
       "30                   0                0            19.0       1012.0  ...   \n",
       "31                   0                0            19.0       1012.0  ...   \n",
       "32                   0                0            19.0       1012.0  ...   \n",
       "33                   0                0            19.0       1012.0  ...   \n",
       "34                   0                0            19.0       1012.0  ...   \n",
       "35                   0                0            19.0       1012.0  ...   \n",
       "36                   0                0            19.0       1012.0  ...   \n",
       "37                   0                0             NaN        503.0  ...   \n",
       "38                   0                0             NaN        503.0  ...   \n",
       "39                   0                0             NaN        503.0  ...   \n",
       "40                   0                0             NaN        503.0  ...   \n",
       "41                   0                0             NaN        503.0  ...   \n",
       "42                   0                0             NaN        503.0  ...   \n",
       "43                   0                0             NaN        503.0  ...   \n",
       "44                   0                0             NaN        503.0  ...   \n",
       "45                   0                0             NaN        503.0  ...   \n",
       "46                   0                0             NaN        503.0  ...   \n",
       "47                   0                0             NaN        503.0  ...   \n",
       "48                   0                0             NaN        503.0  ...   \n",
       "49                   0                0             NaN        503.0  ...   \n",
       "\n",
       "    prospect_opted_out           persona                   company_name  \\\n",
       "0                  NaT        Recruiting                            NaN   \n",
       "1                  NaT        Recruiting                            NaN   \n",
       "2                  NaT  Sales Leadership                 Customer Lobby   \n",
       "3                  NaT  Sales Leadership                    DoubleDutch   \n",
       "4  2014-12-12 15:10:37  Sales Leadership              MapR Technologies   \n",
       "5                  NaT  Sales Leadership  OpenDNS - now a part of Cisco   \n",
       "6  2015-02-06 02:40:12  Sales Leadership                        Mashery   \n",
       "7                  NaT  Sales Leadership                  Rocket Lawyer   \n",
       "8  2017-07-21 08:38:19  Sales Leadership                       Netskope   \n",
       "9                  NaT  Sales Leadership                         Wowzer   \n",
       "10                 NaT  Sales Leadership             FinancialForce.com   \n",
       "11                 NaT  Sales Leadership                     ThisMoment   \n",
       "12                 NaT  Sales Leadership                 Complete Solar   \n",
       "13                 NaT  Sales Leadership                         Wowzer   \n",
       "14 2017-07-21 08:38:48  Sales Leadership                  Ensighten LLC   \n",
       "15                 NaT  Sales Leadership                       WANdisco   \n",
       "16                 NaT  Sales Leadership                       drchrono   \n",
       "17                 NaT  Sales Leadership                      Glassdoor   \n",
       "18                 NaT  Sales Leadership                         Wowzer   \n",
       "19                 NaT  Sales Leadership            Tri-Ed Distribution   \n",
       "20                 NaT  Sales Leadership                         Wowzer   \n",
       "21                 NaT  Sales Operations                         Wowzer   \n",
       "22                 NaT  Sales Operations                         Wowzer   \n",
       "23                 NaT  Sales Operations                     ThisMoment   \n",
       "24                 NaT  Sales Management                   Actuate Corp   \n",
       "25                 NaT  Sales Operations                         Wowzer   \n",
       "26                 NaT  Sales Operations                  Zendesk, Inc.   \n",
       "27                 NaT  Sales Operations                            NaN   \n",
       "28                 NaT  Sales Operations                         AdRoll   \n",
       "29                 NaT  Sales Operations                         Wowzer   \n",
       "30                 NaT  Sales Operations                         Wowzer   \n",
       "31                 NaT  Sales Operations                         Qualys   \n",
       "32                 NaT  Sales Operations                         Wowzer   \n",
       "33                 NaT  Sales Operations                         Wowzer   \n",
       "34                 NaT  Sales Leadership                         AdRoll   \n",
       "35                 NaT  Sales Operations                         Wowzer   \n",
       "36                 NaT  Sales Operations                         Wowzer   \n",
       "37 2017-07-21 08:38:48  Sales Leadership                  Ensighten LLC   \n",
       "38                 NaT  Sales Operations                  Zendesk, Inc.   \n",
       "39                 NaT  Sales Leadership                      Glassdoor   \n",
       "40 2015-02-06 02:40:12  Sales Leadership                        Mashery   \n",
       "41                 NaT  Sales Leadership                     ThisMoment   \n",
       "42                 NaT  Sales Leadership                    DoubleDutch   \n",
       "43                 NaT  Sales Leadership                         Wowzer   \n",
       "44 2014-12-12 15:10:37  Sales Leadership              MapR Technologies   \n",
       "45                 NaT  Sales Leadership                  Rocket Lawyer   \n",
       "46                 NaT  Sales Leadership                         Wowzer   \n",
       "47                 NaT  Sales Operations                         Wowzer   \n",
       "48                 NaT  Sales Leadership                         Wowzer   \n",
       "49                 NaT  Sales Operations                         Wowzer   \n",
       "\n",
       "    company_size                             industry             website  \\\n",
       "0            NaN                                  NaN                 NaN   \n",
       "1            NaN                                  NaN                 NaN   \n",
       "2           51.0                             Internet   customerlobby.com   \n",
       "3           51.0                    Computer Software  www.doubledutch.me   \n",
       "4            NaN                                  NaN                 NaN   \n",
       "5            NaN                             Internet         opendns.com   \n",
       "6            NaN                                  NaN                 NaN   \n",
       "7            NaN                             Internet    rocketlawyer.com   \n",
       "8           51.0                    Computer Software        netskope.com   \n",
       "9            NaN                                  NaN                 NaN   \n",
       "10           NaN                    Computer Software  FinancialForce.com   \n",
       "11           NaN                                  NaN                 NaN   \n",
       "12           NaN             Renewables & Environment   completesolar.com   \n",
       "13           NaN                                  NaN                 NaN   \n",
       "14           NaN                    Computer Software       ensighten.com   \n",
       "15           NaN                    Computer Software        wandisco.com   \n",
       "16          51.0                             Internet                 NaN   \n",
       "17           NaN                             Internet       glassdoor.com   \n",
       "18           NaN                                  NaN                 NaN   \n",
       "19           NaN                                  NaN                 NaN   \n",
       "20           NaN  Information Technology and Services                 NaN   \n",
       "21           NaN                                  NaN                 NaN   \n",
       "22           NaN                                  NaN                 NaN   \n",
       "23           NaN                                  NaN                 NaN   \n",
       "24           NaN                    Computer Software         actuate.com   \n",
       "25           NaN                                  NaN                 NaN   \n",
       "26           NaN                    Computer Software     www.zendesk.com   \n",
       "27           NaN                                  NaN                 NaN   \n",
       "28           NaN            Marketing and Advertising          adroll.com   \n",
       "29           NaN                                  NaN                 NaN   \n",
       "30           NaN                                  NaN                 NaN   \n",
       "31           NaN          Computer & Network Security          qualys.com   \n",
       "32           NaN                                  NaN                 NaN   \n",
       "33           NaN                                  NaN                 NaN   \n",
       "34           NaN            Marketing and Advertising          adroll.com   \n",
       "35           NaN                                  NaN                 NaN   \n",
       "36           NaN                                  NaN                 NaN   \n",
       "37           NaN                    Computer Software       ensighten.com   \n",
       "38           NaN                    Computer Software     www.zendesk.com   \n",
       "39           NaN                             Internet       glassdoor.com   \n",
       "40           NaN                                  NaN                 NaN   \n",
       "41           NaN                                  NaN                 NaN   \n",
       "42          51.0                    Computer Software  www.doubledutch.me   \n",
       "43           NaN                                  NaN                 NaN   \n",
       "44           NaN                                  NaN                 NaN   \n",
       "45           NaN                             Internet    rocketlawyer.com   \n",
       "46           NaN                                  NaN                 NaN   \n",
       "47           NaN                                  NaN                 NaN   \n",
       "48           NaN                                  NaN                 NaN   \n",
       "49           NaN                                  NaN                 NaN   \n",
       "\n",
       "   company_locality    company_tier  sequence_order  \\\n",
       "0               NaN             NaN               1   \n",
       "1               NaN             NaN               2   \n",
       "2          Berkeley      Mid-Market               1   \n",
       "3     San Francisco      Mid-Market               1   \n",
       "4               NaN             NaN               1   \n",
       "5     San Francisco      Mid-Market               1   \n",
       "6               NaN             NaN               1   \n",
       "7     San Francisco      Mid-Market               1   \n",
       "8         Los Altos      Mid-Market               1   \n",
       "9               NaN             NaN               1   \n",
       "10    San Francisco      Commercial               1   \n",
       "11              NaN             NaN               1   \n",
       "12        San Mateo  Small Business               1   \n",
       "13              NaN             NaN               1   \n",
       "14         San Jose      Mid-Market               1   \n",
       "15        San Ramon      Mid-Market               1   \n",
       "16              NaN             NaN               1   \n",
       "17      Mill Valley      Commercial               1   \n",
       "18              NaN             NaN               1   \n",
       "19              NaN             NaN               1   \n",
       "20              NaN             NaN               1   \n",
       "21              NaN             NaN               1   \n",
       "22              NaN             NaN               1   \n",
       "23              NaN             NaN               1   \n",
       "24        San Mateo      Commercial               1   \n",
       "25              NaN             NaN               1   \n",
       "26    San Francisco      Commercial               1   \n",
       "27              NaN             NaN               1   \n",
       "28    San Francisco      Commercial               1   \n",
       "29              NaN             NaN               1   \n",
       "30              NaN             NaN               1   \n",
       "31     Redwood City      Mid-Market               1   \n",
       "32              NaN             NaN               1   \n",
       "33              NaN             NaN               1   \n",
       "34    San Francisco      Commercial               1   \n",
       "35              NaN             NaN               1   \n",
       "36              NaN             NaN               1   \n",
       "37         San Jose      Mid-Market               2   \n",
       "38    San Francisco      Commercial               2   \n",
       "39      Mill Valley      Commercial               2   \n",
       "40              NaN             NaN               2   \n",
       "41              NaN             NaN               2   \n",
       "42    San Francisco      Mid-Market               2   \n",
       "43              NaN             NaN               2   \n",
       "44              NaN             NaN               2   \n",
       "45    San Francisco      Mid-Market               2   \n",
       "46              NaN             NaN               2   \n",
       "47              NaN             NaN               2   \n",
       "48              NaN             NaN               2   \n",
       "49              NaN             NaN               2   \n",
       "\n",
       "                                                 tags  \n",
       "0                     birchbox,recruiting,sampler app  \n",
       "1                     birchbox,recruiting,sampler app  \n",
       "2   01222015,1:11242014,angel,Batch 1 (Nov '14),Co...  \n",
       "3   01222015,angel,Colleague,Colleague562,double d...  \n",
       "4                                 1:11242014,outbound  \n",
       "5        1:11242014,Batch 1 (Nov '14),ChrisL,outbound  \n",
       "6                                 1:11242014,outbound  \n",
       "7   1:11242014,Batch 1 (Nov '14),FB VISIT,FHTA,out...  \n",
       "8   01222015,Batch 1 (Nov '14),Colleague,Colleague...  \n",
       "9                                 1:11242014,outbound  \n",
       "10  1:11242014,Batch 1 (Nov '14),bvp300,outbound,T...  \n",
       "11            Batch 1 (Nov '14),esearch-test,outbound  \n",
       "12                   1:11242014,inbound,MD-SL,outound  \n",
       "13  1:11242014,Batch 1 (Nov '14),inbound,outound,S...  \n",
       "14  1:11242014,Batch 1 (Nov '14),inbound,newkris,o...  \n",
       "15                   EDD,Erika-engaged,SFDC,westcoast  \n",
       "16  01222015,1:11242014,Batch 1 (Nov '14),Colleagu...  \n",
       "17              1:11242014,Batch 1 (Nov '14),outbound  \n",
       "18       1:11242014,Batch 1 (Nov '14),inbound,outound  \n",
       "19               1:11242014,Batch 1 (Nov '14),inbound  \n",
       "20  12162014,1:11242014,Batch 1 (Nov '14),datanyze...  \n",
       "21              1:11242014,Batch 1 (Nov '14),outbound  \n",
       "22                  Batch 1 (Nov '14),inbound,outound  \n",
       "23            Batch 1 (Nov '14),esearch-test,outbound  \n",
       "24  Dreamforce - Sales - Dinner,NO LONGER WITH COM...  \n",
       "25                                 1:11242014,inbound  \n",
       "26  Alex's Prospects,inbound,outound,Sales Operati...  \n",
       "27            Batch 1 (Nov '14),esearch-test,outbound  \n",
       "28                                  outbound,shop.org  \n",
       "29              1:11242014,Batch 1 (Nov '14),outbound  \n",
       "30                                1:11242014,outbound  \n",
       "31                              esearch-test,outbound  \n",
       "32       1:11242014,Batch 1 (Nov '14),inbound,outound  \n",
       "33                                1:11242014,outbound  \n",
       "34                      Get To Demo,outbound,shop.org  \n",
       "35              1:11242014,Batch 1 (Nov '14),outbound  \n",
       "36       1:11242014,Batch 1 (Nov '14),inbound,outound  \n",
       "37  1:11242014,Batch 1 (Nov '14),inbound,newkris,o...  \n",
       "38  Alex's Prospects,inbound,outound,Sales Operati...  \n",
       "39              1:11242014,Batch 1 (Nov '14),outbound  \n",
       "40                                1:11242014,outbound  \n",
       "41            Batch 1 (Nov '14),esearch-test,outbound  \n",
       "42  01222015,angel,Colleague,Colleague562,double d...  \n",
       "43                                1:11242014,outbound  \n",
       "44                                1:11242014,outbound  \n",
       "45  1:11242014,Batch 1 (Nov '14),FB VISIT,FHTA,out...  \n",
       "46  1:11242014,Batch 1 (Nov '14),inbound,outound,S...  \n",
       "47                                1:11242014,outbound  \n",
       "48       1:11242014,Batch 1 (Nov '14),inbound,outound  \n",
       "49                                1:11242014,outbound  \n",
       "\n",
       "[50 rows x 44 columns]"
      ]
     },
     "execution_count": 16,
     "metadata": {},
     "output_type": "execute_result"
    }
   ],
   "source": [
    "for data in [df]:\n",
    "    data['prospect_city'] = data['prospect_city'].apply(correct_city)\n",
    "df.head(50)"
   ]
  },
  {
   "cell_type": "code",
   "execution_count": 17,
   "metadata": {},
   "outputs": [],
   "source": [
    "#prospect_country\n",
    "def correct_country(country):\n",
    "    if country == 'United States' or country == 'United State' or country == 'US' or country == 'USA':\n",
    "        c = 'U.S.'\n",
    "    # represents the US states\n",
    "    elif country == 'AZ' or country =='CA' or country =='FL' or country =='GA' or country =='IL' or country =='IN'\\\n",
    "    or country =='MA' or country =='MI' or country =='MN' or country =='MO'or country =='NY' or country =='OH'\\\n",
    "    or country =='OR' or country =='PA' or country =='WA':\n",
    "        c = 'U.S.'\n",
    "    elif country == 'United Kingdom' or 'UK':\n",
    "        c = 'U.K.'\n",
    "    elif country == '0':\n",
    "        c = None\n",
    "    else:\n",
    "        return country\n",
    "    return c"
   ]
  },
  {
   "cell_type": "code",
   "execution_count": 18,
   "metadata": {},
   "outputs": [],
   "source": [
    "for data in [df]:\n",
    "    data['prospect_country'] = data['prospect_country'].apply(correct_country)\n",
    "# df.head(50)"
   ]
  },
  {
   "cell_type": "code",
   "execution_count": 19,
   "metadata": {},
   "outputs": [],
   "source": [
    "#website\n",
    "def correct_website(site):\n",
    "#     print (type(site))\n",
    "    if pd.isnull(site):\n",
    "        return site\n",
    "    if str(site).startswith('http://'):\n",
    "        s = site.split(\"//\")[-1]\n",
    "        if str(s).startswith('www.') == False:\n",
    "            s = 'www.'+s  \n",
    "    elif str(site).startswith('www.') == False:\n",
    "        s = 'www.'+site   \n",
    "    else:\n",
    "        return site\n",
    "\n",
    "    return s\n"
   ]
  },
  {
   "cell_type": "code",
   "execution_count": 20,
   "metadata": {},
   "outputs": [],
   "source": [
    "for data in [df]: \n",
    "    data['website'] = data['website'].apply(correct_website)\n",
    "    data['prospect_website'] = data['prospect_website'].apply(correct_website)"
   ]
  },
  {
   "cell_type": "markdown",
   "metadata": {},
   "source": [
    "#### Data Deduplication"
   ]
  },
  {
   "cell_type": "code",
   "execution_count": 21,
   "metadata": {},
   "outputs": [
    {
     "data": {
      "text/plain": [
       "(1023256, 44)"
      ]
     },
     "execution_count": 21,
     "metadata": {},
     "output_type": "execute_result"
    }
   ],
   "source": [
    "df=df.drop_duplicates(keep='first')\n",
    "df.reset_index(drop=True, inplace=True)\n",
    "df.shape"
   ]
  },
  {
   "cell_type": "markdown",
   "metadata": {},
   "source": [
    "Chi2 test and f test"
   ]
  },
  {
   "cell_type": "code",
   "execution_count": 25,
   "metadata": {},
   "outputs": [],
   "source": [
    "#create a new column, reply or not -> 0/1\n",
    "df['reply']= np.where(df['replied_at'].isnull(),0,1)"
   ]
  },
  {
   "cell_type": "code",
   "execution_count": 78,
   "metadata": {},
   "outputs": [],
   "source": [
    "resp_lb_encoder = LabelEncoder()\n",
    "cnty_lb_encoder = LabelEncoder()\n",
    "\n",
    "X = df.copy()\n",
    "y = resp_lb_encoder.fit_transform(X.reply)\n",
    "del X[\"reply\"]\n",
    "\n",
    "feat_names = [\"deliver_h\",\"sequence_step_id\",\"sequence_id\",\"template_id\",\"subject_customized\" ]\n",
    "X = X.loc[:,feat_names]\n",
    "# X[\"from\"] = cnty_lb_encoder.fit_transform(X.from)\n",
    "# X[\"persona\"] = cnty_lb_encoder.fit_transform(X.persona)\n",
    "# X[\"company_tier\"] = cnty_lb_encoder.fit_transform(X.company_tier)\n",
    "\n",
    "chi2scores,_ = chi2(X,y)\n",
    "fscores,_ = f_classif(X,y)\n",
    "\n",
    "feat_scores = pd.DataFrame({\"chi2scores\":chi2scores,\"fscores\":fscores},index=feat_names)"
   ]
  },
  {
   "cell_type": "code",
   "execution_count": 79,
   "metadata": {},
   "outputs": [
    {
     "data": {
      "text/html": [
       "<div>\n",
       "<style scoped>\n",
       "    .dataframe tbody tr th:only-of-type {\n",
       "        vertical-align: middle;\n",
       "    }\n",
       "\n",
       "    .dataframe tbody tr th {\n",
       "        vertical-align: top;\n",
       "    }\n",
       "\n",
       "    .dataframe thead th {\n",
       "        text-align: right;\n",
       "    }\n",
       "</style>\n",
       "<table border=\"1\" class=\"dataframe\">\n",
       "  <thead>\n",
       "    <tr style=\"text-align: right;\">\n",
       "      <th></th>\n",
       "      <th>chi2scores</th>\n",
       "      <th>fscores</th>\n",
       "    </tr>\n",
       "  </thead>\n",
       "  <tbody>\n",
       "    <tr>\n",
       "      <th>sequence_step_id</th>\n",
       "      <td>4.006346e+07</td>\n",
       "      <td>12174.515410</td>\n",
       "    </tr>\n",
       "    <tr>\n",
       "      <th>template_id</th>\n",
       "      <td>3.907289e+07</td>\n",
       "      <td>11735.835509</td>\n",
       "    </tr>\n",
       "    <tr>\n",
       "      <th>sequence_id</th>\n",
       "      <td>7.704328e+06</td>\n",
       "      <td>13458.884828</td>\n",
       "    </tr>\n",
       "    <tr>\n",
       "      <th>deliver_h</th>\n",
       "      <td>2.913225e+03</td>\n",
       "      <td>851.904073</td>\n",
       "    </tr>\n",
       "    <tr>\n",
       "      <th>subject_customized</th>\n",
       "      <td>3.935440e+02</td>\n",
       "      <td>398.100435</td>\n",
       "    </tr>\n",
       "  </tbody>\n",
       "</table>\n",
       "</div>"
      ],
      "text/plain": [
       "                      chi2scores       fscores\n",
       "sequence_step_id    4.006346e+07  12174.515410\n",
       "template_id         3.907289e+07  11735.835509\n",
       "sequence_id         7.704328e+06  13458.884828\n",
       "deliver_h           2.913225e+03    851.904073\n",
       "subject_customized  3.935440e+02    398.100435"
      ]
     },
     "execution_count": 79,
     "metadata": {},
     "output_type": "execute_result"
    }
   ],
   "source": [
    "feat_scores.sort_values(by='chi2scores',ascending=False)"
   ]
  },
  {
   "cell_type": "code",
   "execution_count": 80,
   "metadata": {},
   "outputs": [
    {
     "data": {
      "text/html": [
       "<div>\n",
       "<style scoped>\n",
       "    .dataframe tbody tr th:only-of-type {\n",
       "        vertical-align: middle;\n",
       "    }\n",
       "\n",
       "    .dataframe tbody tr th {\n",
       "        vertical-align: top;\n",
       "    }\n",
       "\n",
       "    .dataframe thead th {\n",
       "        text-align: right;\n",
       "    }\n",
       "</style>\n",
       "<table border=\"1\" class=\"dataframe\">\n",
       "  <thead>\n",
       "    <tr style=\"text-align: right;\">\n",
       "      <th></th>\n",
       "      <th>chi2scores</th>\n",
       "      <th>fscores</th>\n",
       "    </tr>\n",
       "  </thead>\n",
       "  <tbody>\n",
       "    <tr>\n",
       "      <th>sequence_id</th>\n",
       "      <td>7.704328e+06</td>\n",
       "      <td>13458.884828</td>\n",
       "    </tr>\n",
       "    <tr>\n",
       "      <th>sequence_step_id</th>\n",
       "      <td>4.006346e+07</td>\n",
       "      <td>12174.515410</td>\n",
       "    </tr>\n",
       "    <tr>\n",
       "      <th>template_id</th>\n",
       "      <td>3.907289e+07</td>\n",
       "      <td>11735.835509</td>\n",
       "    </tr>\n",
       "    <tr>\n",
       "      <th>deliver_h</th>\n",
       "      <td>2.913225e+03</td>\n",
       "      <td>851.904073</td>\n",
       "    </tr>\n",
       "    <tr>\n",
       "      <th>subject_customized</th>\n",
       "      <td>3.935440e+02</td>\n",
       "      <td>398.100435</td>\n",
       "    </tr>\n",
       "  </tbody>\n",
       "</table>\n",
       "</div>"
      ],
      "text/plain": [
       "                      chi2scores       fscores\n",
       "sequence_id         7.704328e+06  13458.884828\n",
       "sequence_step_id    4.006346e+07  12174.515410\n",
       "template_id         3.907289e+07  11735.835509\n",
       "deliver_h           2.913225e+03    851.904073\n",
       "subject_customized  3.935440e+02    398.100435"
      ]
     },
     "execution_count": 80,
     "metadata": {},
     "output_type": "execute_result"
    }
   ],
   "source": [
    "feat_scores.sort_values(by=\"fscores\",ascending=False)"
   ]
  },
  {
   "cell_type": "markdown",
   "metadata": {},
   "source": [
    "from the test result, we can know that,\n",
    "\n",
    "important features: previous purchase counts, user's country, email's version (personal or general)\n",
    "not so important features maybe include: weekday, email's text (short or long), hour to send the email"
   ]
  },
  {
   "cell_type": "markdown",
   "metadata": {},
   "source": [
    "### Part 1.3: Exploratory Data Analysis"
   ]
  },
  {
   "cell_type": "markdown",
   "metadata": {},
   "source": [
    "#### Part 1.3.1 missing data"
   ]
  },
  {
   "cell_type": "code",
   "execution_count": 22,
   "metadata": {
    "scrolled": true
   },
   "outputs": [
    {
     "data": {
      "text/plain": [
       "id                            0\n",
       "message_id                    0\n",
       "parent_message_id        290930\n",
       "to_domain                     0\n",
       "from                          0\n",
       "is_thread_reply               0\n",
       "subject_customized            0\n",
       "body_customized               0\n",
       "subject_length           568935\n",
       "body_length               10410\n",
       "delivered_at                  0\n",
       "thread_replied_at        989568\n",
       "replied_at               992119\n",
       "track_links                   8\n",
       "track_opens                   8\n",
       "includes_link           1023127\n",
       "opened_at                745829\n",
       "clicked_at              1020122\n",
       "mailbox_id                    0\n",
       "template_id                   0\n",
       "sequence_id                   0\n",
       "sequence_step_id              0\n",
       "sequence_template_id        530\n",
       "sequence_state_id             0\n",
       "prospect_id                   0\n",
       "prospect_first_name           2\n",
       "prospect_time_zone       510234\n",
       "prospect_gender         1023137\n",
       "prospect_dob            1021676\n",
       "prospect_occupation       89076\n",
       "prospect_city            423029\n",
       "prospect_zip             461541\n",
       "prospect_country              0\n",
       "prospect_website         382728\n",
       "prospect_opted_out       948348\n",
       "persona                       0\n",
       "company_name                900\n",
       "company_size             962889\n",
       "industry                  35575\n",
       "website                   74010\n",
       "company_locality          88754\n",
       "company_tier              83830\n",
       "sequence_order                0\n",
       "tags                          0\n",
       "dtype: int64"
      ]
     },
     "execution_count": 22,
     "metadata": {},
     "output_type": "execute_result"
    }
   ],
   "source": [
    "# null information\n",
    "df.isnull().sum()"
   ]
  },
  {
   "cell_type": "code",
   "execution_count": 23,
   "metadata": {},
   "outputs": [],
   "source": [
    "# missing value overview\n",
    "rows_list = []\n",
    "for column in df.columns:\n",
    "    total = len(df[column])\n",
    "    count_nan = total - df[column].count()\n",
    "    missing_proportion = count_nan/total\n",
    "    if missing_proportion > 0.00:\n",
    "        dict1 = {}\n",
    "        dict1['Feature']=column\n",
    "        dict1['missing_proportion']=missing_proportion\n",
    "        rows_list.append(dict1)\n",
    "m_df = pd.DataFrame(rows_list)           \n",
    "# m_df             "
   ]
  },
  {
   "cell_type": "code",
   "execution_count": 24,
   "metadata": {
    "scrolled": true
   },
   "outputs": [
    {
     "data": {
      "image/png": "[encoded data removed]",
      "text/plain": [
       "<Figure size 1296x432 with 1 Axes>"
      ]
     },
     "metadata": {},
     "output_type": "display_data"
    }
   ],
   "source": [
    "fig, ax = plt.subplots(nrows=1, ncols=1, figsize=(18, 6))\n",
    "\n",
    "sns.barplot(x='Feature', y='missing_proportion', data=m_df, ax=ax)\n",
    "sns.despine()"
   ]
  },
  {
   "cell_type": "markdown",
   "metadata": {},
   "source": [
    "There are 27 features that contain missing values. I divide them into the following types:\n",
    "1. Missing not at random (nonignorable): \n",
    "    parent_message_id, thread_replied_at, replied_at, includes_link, opened_at, clicked_at, prospect_opt_out, track_links, track_opens\n",
    "2. Missing at random:\n",
    "    subject_length, body_length, sequence_template_id, prospect_first_name, prospect_occupation, company_name,\n",
    "    industry, website, company_locality, company_tier\n",
    "3. Too many missing values (> 40%):\n",
    "    company_size, prospect_gender, prospect_dob, prospect_time_zone, prospect_website, prospect_city,prospect_zip,prospect_country\n"
   ]
  },
  {
   "cell_type": "code",
   "execution_count": 26,
   "metadata": {},
   "outputs": [],
   "source": [
    "df.drop(columns=['replied_at'],inplace=True)"
   ]
  },
  {
   "cell_type": "markdown",
   "metadata": {},
   "source": [
    "### Part 1.3.2 Data analysis"
   ]
  },
  {
   "cell_type": "code",
   "execution_count": 27,
   "metadata": {
    "scrolled": true
   },
   "outputs": [
    {
     "data": {
      "image/png": "[encoded data removed]",
      "text/plain": [
       "<Figure size 1440x432 with 2 Axes>"
      ]
     },
     "metadata": {},
     "output_type": "display_data"
    }
   ],
   "source": [
    "#prospect_occupation\n",
    "# Visualization of different countries\n",
    "grouped = df[['prospect_occupation', 'reply']].groupby('prospect_occupation').mean().reset_index()\n",
    "\n",
    "fig, ax = plt.subplots(nrows=1, ncols=2, figsize=(20, 6))\n",
    "sns.countplot(x='persona', hue='reply', data=df, ax=ax[0])\n",
    "ax[0].set_title('Count Plot of Persona', fontsize=16)\n",
    "ax[0].set_yscale('log')\n",
    "sns.barplot(x='persona', y='reply', data=df, ax=ax[1]);\n",
    "ax[1].set_title('Mean reply rate per Persona', fontsize=16)\n",
    "plt.tight_layout()\n",
    "plt.show()"
   ]
  },
  {
   "cell_type": "code",
   "execution_count": 28,
   "metadata": {},
   "outputs": [
    {
     "data": {
      "image/png": "[encoded data removed]",
      "text/plain": [
       "<Figure size 1440x432 with 2 Axes>"
      ]
     },
     "metadata": {},
     "output_type": "display_data"
    }
   ],
   "source": [
    "#company tier\n",
    "fig, ax = plt.subplots(nrows=1, ncols=2, figsize=(20, 6))\n",
    "sns.countplot(x='company_tier', hue='reply', data=df, ax=ax[0])\n",
    "ax[0].set_title('Count Plot of company', fontsize=16)\n",
    "ax[0].set_yscale('log')\n",
    "sns.barplot(x='company_tier', y='reply', data=df, ax=ax[1]);\n",
    "ax[1].set_title('Mean reply rate per company_tier', fontsize=16)\n",
    "plt.tight_layout()\n",
    "plt.show()"
   ]
  },
  {
   "cell_type": "code",
   "execution_count": 29,
   "metadata": {
    "scrolled": true
   },
   "outputs": [
    {
     "data": {
      "image/png": "[encoded data removed]",
      "text/plain": [
       "<Figure size 1152x288 with 2 Axes>"
      ]
     },
     "metadata": {},
     "output_type": "display_data"
    }
   ],
   "source": [
    "#subject_customized\n",
    "fig, ax = plt.subplots(nrows=1, ncols=2, figsize=(16, 4))\n",
    "sns.countplot(x='subject_customized', hue='reply', data=df, ax=ax[0])\n",
    "ax[0].set_title('Count Plot of customed_subject', fontsize=16)\n",
    "ax[0].set_yscale('log')\n",
    "sns.barplot(x='subject_customized', y='reply', data=df, ax=ax[1]);\n",
    "ax[1].set_title('Mean reply rate of customed_subject', fontsize=16)\n",
    "# plt.tight_layout()\n",
    "plt.show()"
   ]
  },
  {
   "cell_type": "markdown",
   "metadata": {},
   "source": [
    "1. For different persona group, the reply rate is diffrent from the barchart. Although there are many prospects not assigned persona, but among all other persona, SDR group has the highest reply rate. This makes sense because sales development rep (SDR) is sales rep that solely focuses on outbound prospecting, so sending emails to right people is important.\n",
    "2. For different company group, the reply rate is different. Small business have the highest reply rate according to the barchart. It makes sense because small business is more likely to focus on growing their business. \n",
    "3. Whether the subject is customed also affects the reply rate, it makes sense because prospects are willing to see an email specially customized for them, rather than an automatedly outreaching one."
   ]
  },
  {
   "cell_type": "markdown",
   "metadata": {},
   "source": [
    "# Part 2: Feature Engineering"
   ]
  },
  {
   "cell_type": "markdown",
   "metadata": {},
   "source": [
    "### Part 2.1: Drop irrelavant features"
   ]
  },
  {
   "cell_type": "code",
   "execution_count": 30,
   "metadata": {},
   "outputs": [],
   "source": [
    "#For those who has over 40% missing values, I completely drop the variable\n",
    "#company_size, prospect_gender, prospect_dob, prospect_time_zone, prospect_website, prospect_city,prospect_zip,prospect_country \n",
    "df.drop(columns=['company_size','prospect_gender','prospect_dob','prospect_time_zone','prospect_website','prospect_city','prospect_zip','prospect_country','tags'],inplace=True)"
   ]
  },
  {
   "cell_type": "code",
   "execution_count": 31,
   "metadata": {},
   "outputs": [],
   "source": [
    "#drop irrelavant features\n",
    "#id, message_id, prospect_id\n",
    "df.drop(columns=['id', 'message_id', 'prospect_id'],inplace=True)"
   ]
  },
  {
   "cell_type": "markdown",
   "metadata": {},
   "source": [
    "### Part 2.2: Create new features"
   ]
  },
  {
   "cell_type": "code",
   "execution_count": 32,
   "metadata": {},
   "outputs": [],
   "source": [
    "#subject length is null because there's: median\n",
    "#body length: impute missing value using median\n",
    "subject_length_median = df.subject_length.median()\n",
    "df.loc[df['subject_length'].isnull(), 'subject_length' ] = subject_length_median\n",
    "\n",
    "body_length_median = df.body_length.median()\n",
    "df.loc[df['body_length'].isnull(), 'body_length' ] = body_length_median"
   ]
  },
  {
   "cell_type": "code",
   "execution_count": 33,
   "metadata": {},
   "outputs": [],
   "source": [
    "#parent_message_id -> if have parent message\n",
    "#parent_message_id is null, which means the message don't have parent message, use 0 to replace null\n",
    "df['have_parent_message'] = np.where(df['parent_message_id'].isnull(),0,1)\n",
    "df.drop(columns=['parent_message_id'],inplace=True)"
   ]
  },
  {
   "cell_type": "code",
   "execution_count": 34,
   "metadata": {},
   "outputs": [],
   "source": [
    "#prospect_opted_out is null, which means the prospect has opted out, use 0 to replace null\n",
    "df['prospect_opted_out'] = np.where(df['prospect_opted_out'].isnull(),0,1)\n",
    "df.drop(columns=['prospect_opted_out'],inplace=True)"
   ]
  },
  {
   "cell_type": "code",
   "execution_count": 35,
   "metadata": {},
   "outputs": [],
   "source": [
    "#track_links, track_opens\n",
    "df.track_links.fillna(-1, inplace = True)\n",
    "df.track_opens.fillna(-1, inplace = True)"
   ]
  },
  {
   "cell_type": "markdown",
   "metadata": {},
   "source": [
    "### Part 2.3: Build time related features"
   ]
  },
  {
   "cell_type": "code",
   "execution_count": 36,
   "metadata": {},
   "outputs": [],
   "source": [
    "# get the time lag(minute) between open time and deliver time\n",
    "df['deliver_to_open_time_lag']=(df['opened_at']-df['delivered_at']).astype('timedelta64[m]')\n",
    "\n",
    "# get the time lag(minute) between thread reply time and deliver time\n",
    "df['deliver_to_thread_reply_time_lag']=(df['thread_replied_at']-df['delivered_at']).astype('timedelta64[m]')"
   ]
  },
  {
   "cell_type": "code",
   "execution_count": null,
   "metadata": {},
   "outputs": [],
   "source": []
  },
  {
   "cell_type": "code",
   "execution_count": 37,
   "metadata": {},
   "outputs": [],
   "source": [
    "# delivered_at\n",
    "# divide into year, month, day and hour\n",
    "df['deliver_y']=df['delivered_at'].dt.year\n",
    "df['deliver_m']=df['delivered_at'].dt.month\n",
    "df['deliver_d']=df['delivered_at'].dt.day\n",
    "df['deliver_h']=df['delivered_at'].dt.hour\n",
    "df.drop(columns=['delivered_at'],inplace=True)"
   ]
  },
  {
   "cell_type": "code",
   "execution_count": 38,
   "metadata": {},
   "outputs": [],
   "source": [
    "#thread_replied_at\n",
    "#divide into year, month, day and hour\n",
    "df['thread_y']=df['thread_replied_at'].dt.year\n",
    "df['thread_m']=df['thread_replied_at'].dt.month\n",
    "df['thread_d']=df['thread_replied_at'].dt.day\n",
    "df['thread_h']=df['thread_replied_at'].dt.hour\n",
    "df.drop(columns=['thread_replied_at'],inplace=True)"
   ]
  },
  {
   "cell_type": "code",
   "execution_count": 39,
   "metadata": {},
   "outputs": [],
   "source": [
    "#opened_at\n",
    "#divide into year, month, day and hour\n",
    "df['opened_y']=df['opened_at'].dt.year\n",
    "df['opened_m']=df['opened_at'].dt.month\n",
    "df['opened_d']=df['opened_at'].dt.day\n",
    "df['opened_h']=df['opened_at'].dt.hour\n",
    "df.drop(columns=['opened_at'],inplace=True)"
   ]
  },
  {
   "cell_type": "code",
   "execution_count": 40,
   "metadata": {},
   "outputs": [
    {
     "data": {
      "image/png": "[encoded data removed]",
      "text/plain": [
       "<Figure size 1152x288 with 2 Axes>"
      ]
     },
     "metadata": {},
     "output_type": "display_data"
    }
   ],
   "source": [
    "#deliver_hour\n",
    "fig, ax = plt.subplots(nrows=1, ncols=2, figsize=(16, 4))\n",
    "sns.countplot(x='deliver_h', data=df, ax=ax[0])\n",
    "ax[0].set_title('Count Plot of deliver hour', fontsize=16)\n",
    "ax[0].set_yscale('log')\n",
    "sns.barplot(x='deliver_h', y='reply', data=df, ax=ax[1]);\n",
    "ax[1].set_title('Mean reply rate of deliver hour', fontsize=16)\n",
    "plt.tight_layout()\n",
    "plt.show()"
   ]
  },
  {
   "cell_type": "markdown",
   "metadata": {},
   "source": [
    "From the barplot, we can see the reply rate is high when emails are sent during 6-8am. This may be because, people usually start to work in the morning, the emails sent in the early morning are tend to appear in top of the mailbox and easy to be seen and replied."
   ]
  },
  {
   "cell_type": "code",
   "execution_count": 41,
   "metadata": {
    "scrolled": true
   },
   "outputs": [
    {
     "data": {
      "image/png": "[encoded data removed]",
      "text/plain": [
       "<Figure size 1152x288 with 2 Axes>"
      ]
     },
     "metadata": {},
     "output_type": "display_data"
    }
   ],
   "source": [
    "#open_hour\n",
    "fig, ax = plt.subplots(nrows=1, ncols=2, figsize=(16, 4))\n",
    "sns.countplot(x='opened_h', data=df, ax=ax[0])\n",
    "ax[0].set_title('Count Plot of open hour', fontsize=16)\n",
    "ax[0].set_yscale('log')\n",
    "sns.barplot(x='opened_h', y='reply', data=df, ax=ax[1]);\n",
    "ax[1].set_title('Mean reply rate of open hour', fontsize=16)\n",
    "plt.tight_layout()\n",
    "plt.show()"
   ]
  },
  {
   "cell_type": "markdown",
   "metadata": {},
   "source": [
    "From the barplot, we can see the reply rate is higher when emails are opened in the afternoon."
   ]
  },
  {
   "cell_type": "markdown",
   "metadata": {},
   "source": [
    "### Part 2.4: Feature correlation "
   ]
  },
  {
   "cell_type": "code",
   "execution_count": 42,
   "metadata": {},
   "outputs": [
    {
     "data": {
      "text/plain": [
       "<matplotlib.axes._subplots.AxesSubplot at 0x1a304519e8>"
      ]
     },
     "execution_count": 42,
     "metadata": {},
     "output_type": "execute_result"
    },
    {
     "data": {
      "image/png": "[encoded data removed]",
      "text/plain": [
       "<Figure size 432x288 with 2 Axes>"
      ]
     },
     "metadata": {},
     "output_type": "display_data"
    }
   ],
   "source": [
    "corr = df[['deliver_to_open_time_lag', 'deliver_to_thread_reply_time_lag', 'subject_length',\n",
    "                    'body_length', 'mailbox_id','template_id','sequence_id', 'sequence_step_id','sequence_template_id',\n",
    "'sequence_state_id']].corr()\n",
    "sns.heatmap(corr)"
   ]
  },
  {
   "cell_type": "markdown",
   "metadata": {},
   "source": [
    "# Part 3: Build models"
   ]
  },
  {
   "cell_type": "code",
   "execution_count": 43,
   "metadata": {},
   "outputs": [],
   "source": [
    "from sklearn.metrics import auc, roc_curve, classification_report\n",
    "\n",
    "import h2o\n",
    "from h2o.frame import H2OFrame\n",
    "from h2o.estimators.random_forest import H2ORandomForestEstimator\n",
    "from h2o.estimators.xgboost import H2OXGBoostEstimator\n",
    "# from h2o.estimators.random_forest import H2ORandomForestEstimator\n",
    "from h2o.grid.grid_search import H2OGridSearch"
   ]
  },
  {
   "cell_type": "code",
   "execution_count": 44,
   "metadata": {},
   "outputs": [
    {
     "name": "stdout",
     "output_type": "stream",
     "text": [
      "Checking whether there is an H2O instance running at http://localhost:54321 . connected.\n"
     ]
    },
    {
     "data": {
      "text/html": [
       "<div style=\"overflow:auto\"><table style=\"width:50%\"><tr><td>H2O cluster uptime:</td>\n",
       "<td>5 days 22 hours 43 mins</td></tr>\n",
       "<tr><td>H2O cluster timezone:</td>\n",
       "<td>America/Los_Angeles</td></tr>\n",
       "<tr><td>H2O data parsing timezone:</td>\n",
       "<td>UTC</td></tr>\n",
       "<tr><td>H2O cluster version:</td>\n",
       "<td>3.26.0.6</td></tr>\n",
       "<tr><td>H2O cluster version age:</td>\n",
       "<td>22 days </td></tr>\n",
       "<tr><td>H2O cluster name:</td>\n",
       "<td>H2O_from_python_chenling_zrr5ns</td></tr>\n",
       "<tr><td>H2O cluster total nodes:</td>\n",
       "<td>1</td></tr>\n",
       "<tr><td>H2O cluster free memory:</td>\n",
       "<td>1.486 Gb</td></tr>\n",
       "<tr><td>H2O cluster total cores:</td>\n",
       "<td>4</td></tr>\n",
       "<tr><td>H2O cluster allowed cores:</td>\n",
       "<td>4</td></tr>\n",
       "<tr><td>H2O cluster status:</td>\n",
       "<td>locked, healthy</td></tr>\n",
       "<tr><td>H2O connection url:</td>\n",
       "<td>http://localhost:54321</td></tr>\n",
       "<tr><td>H2O connection proxy:</td>\n",
       "<td>None</td></tr>\n",
       "<tr><td>H2O internal security:</td>\n",
       "<td>False</td></tr>\n",
       "<tr><td>H2O API Extensions:</td>\n",
       "<td>Amazon S3, XGBoost, Algos, AutoML, Core V3, TargetEncoder, Core V4</td></tr>\n",
       "<tr><td>Python version:</td>\n",
       "<td>3.6.8 final</td></tr></table></div>"
      ],
      "text/plain": [
       "--------------------------  ------------------------------------------------------------------\n",
       "H2O cluster uptime:         5 days 22 hours 43 mins\n",
       "H2O cluster timezone:       America/Los_Angeles\n",
       "H2O data parsing timezone:  UTC\n",
       "H2O cluster version:        3.26.0.6\n",
       "H2O cluster version age:    22 days\n",
       "H2O cluster name:           H2O_from_python_chenling_zrr5ns\n",
       "H2O cluster total nodes:    1\n",
       "H2O cluster free memory:    1.486 Gb\n",
       "H2O cluster total cores:    4\n",
       "H2O cluster allowed cores:  4\n",
       "H2O cluster status:         locked, healthy\n",
       "H2O connection url:         http://localhost:54321\n",
       "H2O connection proxy:\n",
       "H2O internal security:      False\n",
       "H2O API Extensions:         Amazon S3, XGBoost, Algos, AutoML, Core V3, TargetEncoder, Core V4\n",
       "Python version:             3.6.8 final\n",
       "--------------------------  ------------------------------------------------------------------"
      ]
     },
     "metadata": {},
     "output_type": "display_data"
    }
   ],
   "source": [
    "# Initialize H2O cluster\n",
    "h2o.init()\n",
    "h2o.remove_all()"
   ]
  },
  {
   "cell_type": "code",
   "execution_count": 45,
   "metadata": {},
   "outputs": [
    {
     "name": "stdout",
     "output_type": "stream",
     "text": [
      "Parse progress: |█████████████████████████████████████████████████████████| 100%\n"
     ]
    },
    {
     "data": {
      "text/html": [
       "<table>\n",
       "<thead>\n",
       "<tr><th>       </th><th>to_domain        </th><th>from             </th><th>is_thread_reply    </th><th>subject_customized  </th><th>body_customized       </th><th>subject_length   </th><th>body_length       </th><th>track_links        </th><th>track_opens         </th><th>includes_link  </th><th>clicked_at        </th><th>mailbox_id       </th><th>template_id      </th><th>sequence_id       </th><th>sequence_step_id  </th><th>sequence_template_id  </th><th>sequence_state_id  </th><th>prospect_first_name  </th><th>prospect_occupation  </th><th>persona         </th><th>company_name                 </th><th>industry         </th><th>website              </th><th>company_locality  </th><th>company_tier  </th><th>sequence_order   </th><th>reply  </th><th>have_parent_message  </th><th>deliver_to_open_time_lag  </th><th>deliver_to_thread_reply_time_lag  </th><th>deliver_y         </th><th>deliver_m         </th><th>deliver_d        </th><th>deliver_h         </th><th>thread_y  </th><th>thread_m  </th><th>thread_d  </th><th>thread_h  </th><th>opened_y  </th><th>opened_m  </th><th>opened_d  </th><th>opened_h  </th></tr>\n",
       "</thead>\n",
       "<tbody>\n",
       "<tr><td>type   </td><td>enum             </td><td>enum             </td><td>int                </td><td>int                 </td><td>int                   </td><td>int              </td><td>int               </td><td>int                </td><td>int                 </td><td>enum           </td><td>time              </td><td>int              </td><td>int              </td><td>int               </td><td>int               </td><td>int                   </td><td>int                </td><td>enum                 </td><td>enum                 </td><td>enum            </td><td>enum                         </td><td>enum             </td><td>enum                 </td><td>enum              </td><td>enum          </td><td>int              </td><td>enum   </td><td>int                  </td><td>enum                      </td><td>enum                              </td><td>int               </td><td>int               </td><td>int              </td><td>int               </td><td>enum      </td><td>enum      </td><td>enum      </td><td>enum      </td><td>enum      </td><td>enum      </td><td>enum      </td><td>enum      </td></tr>\n",
       "<tr><td>mins   </td><td>                 </td><td>                 </td><td>0.0                </td><td>0.0                 </td><td>0.0                   </td><td>1.0              </td><td>12.0              </td><td>-1.0               </td><td>-1.0                </td><td>               </td><td>1411173265000.0   </td><td>15.0             </td><td>61.0             </td><td>60.0              </td><td>151.0             </td><td>211.0                 </td><td>1110.0             </td><td>                     </td><td>                     </td><td>                </td><td>                             </td><td>                 </td><td>                     </td><td>                  </td><td>              </td><td>1.0              </td><td>       </td><td>0.0                  </td><td>                          </td><td>                                  </td><td>2014.0            </td><td>1.0               </td><td>1.0              </td><td>0.0               </td><td>          </td><td>          </td><td>          </td><td>          </td><td>          </td><td>          </td><td>          </td><td>          </td></tr>\n",
       "<tr><td>mean   </td><td>                 </td><td>                 </td><td>0.9889372747386773 </td><td>0.01106272526132268 </td><td>0.00012606815889669838</td><td>43.06454689735512</td><td>1013.3051171945239</td><td>0.11962500097727255</td><td>0.9999745909137108  </td><td>               </td><td>1450788452009.2527</td><td>131.8245277819041</td><td>20202.73556861626</td><td>3118.7360709343507</td><td>13785.648321632121</td><td>13312.246066884001    </td><td>264496.6500465181  </td><td>                     </td><td>                     </td><td>                </td><td>                             </td><td>                 </td><td>                     </td><td>                  </td><td>              </td><td>5.618060387625384</td><td>       </td><td>0.7156820971487096   </td><td>                          </td><td>                                  </td><td>2016.3622993659455</td><td>6.325543168083061 </td><td>15.82161648697882</td><td>12.862820252214496</td><td>          </td><td>          </td><td>          </td><td>          </td><td>          </td><td>          </td><td>          </td><td>          </td></tr>\n",
       "<tr><td>maxs   </td><td>                 </td><td>                 </td><td>1.0                </td><td>1.0                 </td><td>1.0                   </td><td>270.0            </td><td>27347.0           </td><td>1.0                </td><td>1.0                 </td><td>               </td><td>1511893530000.0   </td><td>475.0            </td><td>43238.0          </td><td>6626.0            </td><td>37029.0           </td><td>31838.0               </td><td>562712.0           </td><td>                     </td><td>                     </td><td>                </td><td>                             </td><td>                 </td><td>                     </td><td>                  </td><td>              </td><td>49.0             </td><td>       </td><td>1.0                  </td><td>                          </td><td>                                  </td><td>2017.0            </td><td>12.0              </td><td>31.0             </td><td>23.0              </td><td>          </td><td>          </td><td>          </td><td>          </td><td>          </td><td>          </td><td>          </td><td>          </td></tr>\n",
       "<tr><td>sigma  </td><td>                 </td><td>                 </td><td>0.10459613789629582</td><td>0.10459613789629581 </td><td>0.011227305505042175  </td><td>50.52010289850162</td><td>1079.3402281751337</td><td>0.324546759983761  </td><td>0.006406624819120973</td><td>               </td><td>27799606210.883224</td><td>85.13260138659857</td><td>8248.252373671698</td><td>1344.8983710368655</td><td>6775.324305814703 </td><td>5977.246304986232     </td><td>152204.3231766278  </td><td>                     </td><td>                     </td><td>                </td><td>                             </td><td>                 </td><td>                     </td><td>                  </td><td>              </td><td>4.217924202258464</td><td>       </td><td>0.4510891617256529   </td><td>                          </td><td>                                  </td><td>0.758161195431663 </td><td>3.4014697909790494</td><td>8.619194475774593</td><td>6.634990056505531 </td><td>          </td><td>          </td><td>          </td><td>          </td><td>          </td><td>          </td><td>          </td><td>          </td></tr>\n",
       "<tr><td>zeros  </td><td>                 </td><td>                 </td><td>11320              </td><td>1011936             </td><td>1023127               </td><td>0                </td><td>0                 </td><td>900833             </td><td>10                  </td><td>               </td><td>0                 </td><td>0                </td><td>0                </td><td>0                 </td><td>0                 </td><td>0                     </td><td>0                  </td><td>                     </td><td>                     </td><td>                </td><td>                             </td><td>                 </td><td>                     </td><td>                  </td><td>              </td><td>0                </td><td>       </td><td>290930               </td><td>                          </td><td>                                  </td><td>0                 </td><td>0                 </td><td>0                </td><td>23489             </td><td>          </td><td>          </td><td>          </td><td>          </td><td>          </td><td>          </td><td>          </td><td>          </td></tr>\n",
       "<tr><td>missing</td><td>0                </td><td>0                </td><td>0                  </td><td>0                   </td><td>0                     </td><td>0                </td><td>0                 </td><td>0                  </td><td>0                   </td><td>0              </td><td>1020122           </td><td>0                </td><td>0                </td><td>0                 </td><td>0                 </td><td>530                   </td><td>0                  </td><td>0                    </td><td>0                    </td><td>0               </td><td>0                            </td><td>0                </td><td>0                    </td><td>0                 </td><td>0             </td><td>0                </td><td>0      </td><td>0                    </td><td>0                         </td><td>0                                 </td><td>0                 </td><td>0                 </td><td>0                </td><td>0                 </td><td>0         </td><td>0         </td><td>0         </td><td>0         </td><td>0         </td><td>0         </td><td>0         </td><td>0         </td></tr>\n",
       "<tr><td>0      </td><td>birchbox.com     </td><td>manny@outreach.io</td><td>1.0                </td><td>0.0                 </td><td>0.0                   </td><td>33.0             </td><td>850.0             </td><td>0.0                </td><td>1.0                 </td><td>nan            </td><td>                  </td><td>15.0             </td><td>238.0            </td><td>60.0              </td><td>151.0             </td><td>211.0                 </td><td>1110.0             </td><td>Anthony              </td><td>nan                  </td><td>Recruiting      </td><td>nan                          </td><td>nan              </td><td>nan                  </td><td>nan               </td><td>nan           </td><td>1.0              </td><td>0      </td><td>0.0                  </td><td>0.0                       </td><td>nan                               </td><td>2014.0            </td><td>9.0               </td><td>19.0             </td><td>16.0              </td><td>nan       </td><td>nan       </td><td>nan       </td><td>nan       </td><td>2014.0    </td><td>9.0       </td><td>19.0      </td><td>16.0      </td></tr>\n",
       "<tr><td>1      </td><td>birchbox.com     </td><td>manny@outreach.io</td><td>1.0                </td><td>0.0                 </td><td>0.0                   </td><td>31.0             </td><td>249.0             </td><td>1.0                </td><td>1.0                 </td><td>nan            </td><td>                  </td><td>15.0             </td><td>229.0            </td><td>60.0              </td><td>152.0             </td><td>212.0                 </td><td>1110.0             </td><td>Anthony              </td><td>nan                  </td><td>Recruiting      </td><td>nan                          </td><td>nan              </td><td>nan                  </td><td>nan               </td><td>nan           </td><td>2.0              </td><td>0      </td><td>0.0                  </td><td>0.0                       </td><td>nan                               </td><td>2014.0            </td><td>9.0               </td><td>22.0             </td><td>16.0              </td><td>nan       </td><td>nan       </td><td>nan       </td><td>nan       </td><td>2014.0    </td><td>9.0       </td><td>22.0      </td><td>16.0      </td></tr>\n",
       "<tr><td>2      </td><td>customerlobby.com</td><td>manny@outreach.io</td><td>1.0                </td><td>0.0                 </td><td>0.0                   </td><td>19.0             </td><td>1012.0            </td><td>1.0                </td><td>1.0                 </td><td>nan            </td><td>                  </td><td>15.0             </td><td>242.0            </td><td>61.0              </td><td>155.0             </td><td>215.0                 </td><td>1113.0             </td><td>Wayne                </td><td>Internet             </td><td>Sales Leadership</td><td>Customer Lobby               </td><td>Internet         </td><td>www.customerlobby.com</td><td>Berkeley          </td><td>Mid-Market    </td><td>1.0              </td><td>0      </td><td>0.0                  </td><td>nan                       </td><td>nan                               </td><td>2014.0            </td><td>9.0               </td><td>20.0             </td><td>0.0               </td><td>nan       </td><td>nan       </td><td>nan       </td><td>nan       </td><td>nan       </td><td>nan       </td><td>nan       </td><td>nan       </td></tr>\n",
       "<tr><td>3      </td><td>doubledutch.me   </td><td>manny@outreach.io</td><td>1.0                </td><td>0.0                 </td><td>0.0                   </td><td>19.0             </td><td>1012.0            </td><td>1.0                </td><td>1.0                 </td><td>nan            </td><td>                  </td><td>15.0             </td><td>242.0            </td><td>61.0              </td><td>155.0             </td><td>215.0                 </td><td>1114.0             </td><td>Russ                 </td><td>Computer Software    </td><td>Sales Leadership</td><td>DoubleDutch                  </td><td>Computer Software</td><td>www.doubledutch.me   </td><td>San Francisco     </td><td>Mid-Market    </td><td>1.0              </td><td>0      </td><td>0.0                  </td><td>55.0                      </td><td>nan                               </td><td>2014.0            </td><td>9.0               </td><td>20.0             </td><td>0.0               </td><td>nan       </td><td>nan       </td><td>nan       </td><td>nan       </td><td>2014.0    </td><td>9.0       </td><td>20.0      </td><td>1.0       </td></tr>\n",
       "<tr><td>4      </td><td>maprtech.com     </td><td>manny@outreach.io</td><td>1.0                </td><td>0.0                 </td><td>0.0                   </td><td>19.0             </td><td>1012.0            </td><td>1.0                </td><td>1.0                 </td><td>nan            </td><td>                  </td><td>15.0             </td><td>242.0            </td><td>61.0              </td><td>155.0             </td><td>215.0                 </td><td>1115.0             </td><td>John                 </td><td>nan                  </td><td>Sales Leadership</td><td>MapR Technologies            </td><td>nan              </td><td>nan                  </td><td>nan               </td><td>nan           </td><td>1.0              </td><td>0      </td><td>0.0                  </td><td>4.0                       </td><td>nan                               </td><td>2014.0            </td><td>9.0               </td><td>20.0             </td><td>0.0               </td><td>nan       </td><td>nan       </td><td>nan       </td><td>nan       </td><td>2014.0    </td><td>9.0       </td><td>20.0      </td><td>0.0       </td></tr>\n",
       "<tr><td>5      </td><td>opendns.com      </td><td>manny@outreach.io</td><td>1.0                </td><td>0.0                 </td><td>0.0                   </td><td>19.0             </td><td>1012.0            </td><td>1.0                </td><td>1.0                 </td><td>nan            </td><td>                  </td><td>15.0             </td><td>242.0            </td><td>61.0              </td><td>155.0             </td><td>215.0                 </td><td>1116.0             </td><td>Marc                 </td><td>Internet             </td><td>Sales Leadership</td><td>OpenDNS - now a part of Cisco</td><td>Internet         </td><td>www.opendns.com      </td><td>San Francisco     </td><td>Mid-Market    </td><td>1.0              </td><td>0      </td><td>0.0                  </td><td>0.0                       </td><td>nan                               </td><td>2014.0            </td><td>9.0               </td><td>20.0             </td><td>0.0               </td><td>nan       </td><td>nan       </td><td>nan       </td><td>nan       </td><td>2014.0    </td><td>9.0       </td><td>20.0      </td><td>0.0       </td></tr>\n",
       "<tr><td>6      </td><td>mashery.com      </td><td>manny@outreach.io</td><td>1.0                </td><td>0.0                 </td><td>0.0                   </td><td>19.0             </td><td>1012.0            </td><td>1.0                </td><td>1.0                 </td><td>nan            </td><td>                  </td><td>15.0             </td><td>242.0            </td><td>61.0              </td><td>155.0             </td><td>215.0                 </td><td>1118.0             </td><td>Rodque               </td><td>nan                  </td><td>Sales Leadership</td><td>Mashery                      </td><td>nan              </td><td>nan                  </td><td>nan               </td><td>nan           </td><td>1.0              </td><td>0      </td><td>0.0                  </td><td>nan                       </td><td>nan                               </td><td>2014.0            </td><td>9.0               </td><td>20.0             </td><td>0.0               </td><td>nan       </td><td>nan       </td><td>nan       </td><td>nan       </td><td>nan       </td><td>nan       </td><td>nan       </td><td>nan       </td></tr>\n",
       "<tr><td>7      </td><td>yahoo.com        </td><td>manny@outreach.io</td><td>1.0                </td><td>0.0                 </td><td>0.0                   </td><td>19.0             </td><td>1012.0            </td><td>1.0                </td><td>1.0                 </td><td>nan            </td><td>                  </td><td>15.0             </td><td>242.0            </td><td>61.0              </td><td>155.0             </td><td>215.0                 </td><td>1119.0             </td><td>Paul                 </td><td>Internet             </td><td>Sales Leadership</td><td>Rocket Lawyer                </td><td>Internet         </td><td>www.rocketlawyer.com </td><td>San Francisco     </td><td>Mid-Market    </td><td>1.0              </td><td>0      </td><td>0.0                  </td><td>64.0                      </td><td>1589692.0                         </td><td>2014.0            </td><td>9.0               </td><td>20.0             </td><td>0.0               </td><td>2017.0    </td><td>9.0       </td><td>27.0      </td><td>23.0      </td><td>2014.0    </td><td>9.0       </td><td>20.0      </td><td>1.0       </td></tr>\n",
       "<tr><td>8      </td><td>netskope.com     </td><td>manny@outreach.io</td><td>1.0                </td><td>0.0                 </td><td>0.0                   </td><td>19.0             </td><td>1012.0            </td><td>1.0                </td><td>1.0                 </td><td>nan            </td><td>                  </td><td>15.0             </td><td>242.0            </td><td>61.0              </td><td>155.0             </td><td>215.0                 </td><td>1120.0             </td><td>Paul                 </td><td>Computer Software    </td><td>Sales Leadership</td><td>Netskope                     </td><td>Computer Software</td><td>www.netskope.com     </td><td>Los Altos         </td><td>Mid-Market    </td><td>1.0              </td><td>0      </td><td>0.0                  </td><td>1.0                       </td><td>nan                               </td><td>2014.0            </td><td>9.0               </td><td>20.0             </td><td>0.0               </td><td>nan       </td><td>nan       </td><td>nan       </td><td>nan       </td><td>2014.0    </td><td>9.0       </td><td>20.0      </td><td>0.0       </td></tr>\n",
       "<tr><td>9      </td><td>mixamo.com       </td><td>manny@outreach.io</td><td>1.0                </td><td>0.0                 </td><td>0.0                   </td><td>19.0             </td><td>1012.0            </td><td>1.0                </td><td>1.0                 </td><td>nan            </td><td>                  </td><td>15.0             </td><td>242.0            </td><td>61.0              </td><td>155.0             </td><td>215.0                 </td><td>1121.0             </td><td>Mike                 </td><td>nan                  </td><td>Sales Leadership</td><td>Wowzer                       </td><td>nan              </td><td>nan                  </td><td>nan               </td><td>nan           </td><td>1.0              </td><td>0      </td><td>0.0                  </td><td>2374.0                    </td><td>nan                               </td><td>2014.0            </td><td>9.0               </td><td>20.0             </td><td>0.0               </td><td>nan       </td><td>nan       </td><td>nan       </td><td>nan       </td><td>2014.0    </td><td>9.0       </td><td>21.0      </td><td>16.0      </td></tr>\n",
       "</tbody>\n",
       "</table>"
      ]
     },
     "metadata": {},
     "output_type": "display_data"
    }
   ],
   "source": [
    "# Transform to H2O Frame, and make sure the target variable is categorical\n",
    "h2o_df = H2OFrame(df)\n",
    "\n",
    "h2o_df['reply'] = h2o_df['reply'].asfactor()\n",
    "\n",
    "h2o_df.summary()"
   ]
  },
  {
   "cell_type": "code",
   "execution_count": 46,
   "metadata": {},
   "outputs": [
    {
     "name": "stdout",
     "output_type": "stream",
     "text": [
      "(818605, 42) (204651, 42)\n"
     ]
    }
   ],
   "source": [
    "# Split into 80% training and 20% test dataset\n",
    "strat_split = h2o_df['reply'].stratified_split(test_frac=0.2, seed=42)\n",
    "\n",
    "train = h2o_df[strat_split == 'train']\n",
    "test = h2o_df[strat_split == 'test']\n",
    "\n",
    "print(train.shape, test.shape)"
   ]
  },
  {
   "cell_type": "code",
   "execution_count": 47,
   "metadata": {},
   "outputs": [],
   "source": [
    "feature = list(df.columns).remove('reply')\n",
    "target = 'reply'"
   ]
  },
  {
   "cell_type": "markdown",
   "metadata": {},
   "source": [
    "### Random Forest"
   ]
  },
  {
   "cell_type": "code",
   "execution_count": 62,
   "metadata": {},
   "outputs": [],
   "source": [
    "# Build random forest model\n",
    "# model = H2ORandomForestEstimator(balance_classes=True, ntrees=50, max_depth=10, \n",
    "#                                  mtries=-1, seed=42, score_each_iteration=True,)\n",
    "# model.train(x=feature, y=target, training_frame=train)"
   ]
  },
  {
   "cell_type": "markdown",
   "metadata": {},
   "source": [
    "H2O Random Forest:\n",
    "1. balance_classes=True, among two classes: reply and no reply, num of negative class is extremely greater than positive class, I set the parameter to True to deal with the imbalanced class.\n",
    "\n",
    "2. ntrees=50, max_depth=10\n",
    "\n",
    "3. Random Forest will impute missing values. Some missing values are already preprocessed.\n",
    "\n",
    "4. H2O will do one-hot-encoding to categorical features."
   ]
  },
  {
   "cell_type": "markdown",
   "metadata": {},
   "source": [
    "Boosted tree models are immune to multicollinearity by nature, because when they split trees, the tree will choose one of the perfectly correlated feature "
   ]
  },
  {
   "cell_type": "code",
   "execution_count": null,
   "metadata": {},
   "outputs": [],
   "source": [
    "# model.varimp_plot()"
   ]
  },
  {
   "cell_type": "code",
   "execution_count": null,
   "metadata": {
    "scrolled": true
   },
   "outputs": [],
   "source": [
    "# Feature importance\n",
    "# importance = model.varimp(use_pandas=True)\n",
    "\n",
    "# fig, ax = plt.subplots(figsize=(10, 8))\n",
    "# sns.barplot(x='scaled_importance', y='variable', data=importance)\n",
    "# plt.show()"
   ]
  },
  {
   "cell_type": "markdown",
   "metadata": {},
   "source": [
    "According to feature importance, Thread_replied_at feature has extremely high feature importance. It's probably because the feature causality. If there's already replied email in the thread, in most cases prospects will reply to follow up. However, we may want to focus more on other features. So I drop this 'thread_replied_at' related feature. \n",
    "\n",
    " time lag bewtween deliver time and open time, time lag bewtween deliver time and thread reply time play important roles in the email reply.\n",
    "which means the time the email deliver, time open, time thread open matters."
   ]
  },
  {
   "cell_type": "code",
   "execution_count": 49,
   "metadata": {},
   "outputs": [],
   "source": [
    "h2o_df=h2o_df.drop(['thread_y','thread_m','thread_d','thread_h','deliver_to_thread_reply_time_lag'])"
   ]
  },
  {
   "cell_type": "code",
   "execution_count": 50,
   "metadata": {},
   "outputs": [
    {
     "name": "stdout",
     "output_type": "stream",
     "text": [
      "(818605, 37) (204651, 37)\n"
     ]
    }
   ],
   "source": [
    "# Split into 80% training and 20% test dataset\n",
    "strat_split = h2o_df['reply'].stratified_split(test_frac=0.2, seed=42)\n",
    "\n",
    "train = h2o_df[strat_split == 'train']\n",
    "test = h2o_df[strat_split == 'test']\n",
    "\n",
    "print(train.shape, test.shape)"
   ]
  },
  {
   "cell_type": "code",
   "execution_count": 51,
   "metadata": {},
   "outputs": [],
   "source": [
    "feature = list(h2o_df.columns).remove('reply')\n",
    "target = 'reply'"
   ]
  },
  {
   "cell_type": "code",
   "execution_count": 60,
   "metadata": {},
   "outputs": [
    {
     "data": {
      "text/html": [
       "<table>\n",
       "<thead>\n",
       "<tr><th>to_domain         </th><th>from             </th><th style=\"text-align: right;\">  is_thread_reply</th><th style=\"text-align: right;\">  subject_customized</th><th style=\"text-align: right;\">  body_customized</th><th style=\"text-align: right;\">  subject_length</th><th style=\"text-align: right;\">  body_length</th><th style=\"text-align: right;\">  track_links</th><th style=\"text-align: right;\">  track_opens</th><th style=\"text-align: right;\">  includes_link</th><th>clicked_at  </th><th style=\"text-align: right;\">  mailbox_id</th><th style=\"text-align: right;\">  template_id</th><th style=\"text-align: right;\">  sequence_id</th><th style=\"text-align: right;\">  sequence_step_id</th><th style=\"text-align: right;\">  sequence_template_id</th><th style=\"text-align: right;\">  sequence_state_id</th><th>prospect_first_name  </th><th>prospect_occupation  </th><th>persona         </th><th>company_name      </th><th>industry         </th><th>website               </th><th>company_locality  </th><th>company_tier  </th><th style=\"text-align: right;\">  sequence_order</th><th style=\"text-align: right;\">  reply</th><th style=\"text-align: right;\">  have_parent_message</th><th style=\"text-align: right;\">  deliver_to_open_time_lag</th><th style=\"text-align: right;\">  deliver_y</th><th style=\"text-align: right;\">  deliver_m</th><th style=\"text-align: right;\">  deliver_d</th><th style=\"text-align: right;\">  deliver_h</th><th style=\"text-align: right;\">  opened_y</th><th style=\"text-align: right;\">  opened_m</th><th style=\"text-align: right;\">  opened_d</th><th style=\"text-align: right;\">  opened_h</th></tr>\n",
       "</thead>\n",
       "<tbody>\n",
       "<tr><td>birchbox.com      </td><td>manny@outreach.io</td><td style=\"text-align: right;\">                1</td><td style=\"text-align: right;\">                   0</td><td style=\"text-align: right;\">                0</td><td style=\"text-align: right;\">              33</td><td style=\"text-align: right;\">          850</td><td style=\"text-align: right;\">            0</td><td style=\"text-align: right;\">            1</td><td style=\"text-align: right;\">            nan</td><td>            </td><td style=\"text-align: right;\">          15</td><td style=\"text-align: right;\">          238</td><td style=\"text-align: right;\">           60</td><td style=\"text-align: right;\">               151</td><td style=\"text-align: right;\">                   211</td><td style=\"text-align: right;\">               1110</td><td>Anthony              </td><td>nan                  </td><td>Recruiting      </td><td>nan               </td><td>nan              </td><td>nan                   </td><td>nan               </td><td>nan           </td><td style=\"text-align: right;\">               1</td><td style=\"text-align: right;\">      0</td><td style=\"text-align: right;\">                    0</td><td style=\"text-align: right;\">                         0</td><td style=\"text-align: right;\">       2014</td><td style=\"text-align: right;\">          9</td><td style=\"text-align: right;\">         19</td><td style=\"text-align: right;\">         16</td><td style=\"text-align: right;\">      2014</td><td style=\"text-align: right;\">         9</td><td style=\"text-align: right;\">        19</td><td style=\"text-align: right;\">        16</td></tr>\n",
       "<tr><td>customerlobby.com </td><td>manny@outreach.io</td><td style=\"text-align: right;\">                1</td><td style=\"text-align: right;\">                   0</td><td style=\"text-align: right;\">                0</td><td style=\"text-align: right;\">              19</td><td style=\"text-align: right;\">         1012</td><td style=\"text-align: right;\">            1</td><td style=\"text-align: right;\">            1</td><td style=\"text-align: right;\">            nan</td><td>            </td><td style=\"text-align: right;\">          15</td><td style=\"text-align: right;\">          242</td><td style=\"text-align: right;\">           61</td><td style=\"text-align: right;\">               155</td><td style=\"text-align: right;\">                   215</td><td style=\"text-align: right;\">               1113</td><td>Wayne                </td><td>Internet             </td><td>Sales Leadership</td><td>Customer Lobby    </td><td>Internet         </td><td>www.customerlobby.com </td><td>Berkeley          </td><td>Mid-Market    </td><td style=\"text-align: right;\">               1</td><td style=\"text-align: right;\">      0</td><td style=\"text-align: right;\">                    0</td><td style=\"text-align: right;\">                       nan</td><td style=\"text-align: right;\">       2014</td><td style=\"text-align: right;\">          9</td><td style=\"text-align: right;\">         20</td><td style=\"text-align: right;\">          0</td><td style=\"text-align: right;\">       nan</td><td style=\"text-align: right;\">       nan</td><td style=\"text-align: right;\">       nan</td><td style=\"text-align: right;\">       nan</td></tr>\n",
       "<tr><td>doubledutch.me    </td><td>manny@outreach.io</td><td style=\"text-align: right;\">                1</td><td style=\"text-align: right;\">                   0</td><td style=\"text-align: right;\">                0</td><td style=\"text-align: right;\">              19</td><td style=\"text-align: right;\">         1012</td><td style=\"text-align: right;\">            1</td><td style=\"text-align: right;\">            1</td><td style=\"text-align: right;\">            nan</td><td>            </td><td style=\"text-align: right;\">          15</td><td style=\"text-align: right;\">          242</td><td style=\"text-align: right;\">           61</td><td style=\"text-align: right;\">               155</td><td style=\"text-align: right;\">                   215</td><td style=\"text-align: right;\">               1114</td><td>Russ                 </td><td>Computer Software    </td><td>Sales Leadership</td><td>DoubleDutch       </td><td>Computer Software</td><td>www.doubledutch.me    </td><td>San Francisco     </td><td>Mid-Market    </td><td style=\"text-align: right;\">               1</td><td style=\"text-align: right;\">      0</td><td style=\"text-align: right;\">                    0</td><td style=\"text-align: right;\">                        55</td><td style=\"text-align: right;\">       2014</td><td style=\"text-align: right;\">          9</td><td style=\"text-align: right;\">         20</td><td style=\"text-align: right;\">          0</td><td style=\"text-align: right;\">      2014</td><td style=\"text-align: right;\">         9</td><td style=\"text-align: right;\">        20</td><td style=\"text-align: right;\">         1</td></tr>\n",
       "<tr><td>maprtech.com      </td><td>manny@outreach.io</td><td style=\"text-align: right;\">                1</td><td style=\"text-align: right;\">                   0</td><td style=\"text-align: right;\">                0</td><td style=\"text-align: right;\">              19</td><td style=\"text-align: right;\">         1012</td><td style=\"text-align: right;\">            1</td><td style=\"text-align: right;\">            1</td><td style=\"text-align: right;\">            nan</td><td>            </td><td style=\"text-align: right;\">          15</td><td style=\"text-align: right;\">          242</td><td style=\"text-align: right;\">           61</td><td style=\"text-align: right;\">               155</td><td style=\"text-align: right;\">                   215</td><td style=\"text-align: right;\">               1115</td><td>John                 </td><td>nan                  </td><td>Sales Leadership</td><td>MapR Technologies </td><td>nan              </td><td>nan                   </td><td>nan               </td><td>nan           </td><td style=\"text-align: right;\">               1</td><td style=\"text-align: right;\">      0</td><td style=\"text-align: right;\">                    0</td><td style=\"text-align: right;\">                         4</td><td style=\"text-align: right;\">       2014</td><td style=\"text-align: right;\">          9</td><td style=\"text-align: right;\">         20</td><td style=\"text-align: right;\">          0</td><td style=\"text-align: right;\">      2014</td><td style=\"text-align: right;\">         9</td><td style=\"text-align: right;\">        20</td><td style=\"text-align: right;\">         0</td></tr>\n",
       "<tr><td>mashery.com       </td><td>manny@outreach.io</td><td style=\"text-align: right;\">                1</td><td style=\"text-align: right;\">                   0</td><td style=\"text-align: right;\">                0</td><td style=\"text-align: right;\">              19</td><td style=\"text-align: right;\">         1012</td><td style=\"text-align: right;\">            1</td><td style=\"text-align: right;\">            1</td><td style=\"text-align: right;\">            nan</td><td>            </td><td style=\"text-align: right;\">          15</td><td style=\"text-align: right;\">          242</td><td style=\"text-align: right;\">           61</td><td style=\"text-align: right;\">               155</td><td style=\"text-align: right;\">                   215</td><td style=\"text-align: right;\">               1118</td><td>Rodque               </td><td>nan                  </td><td>Sales Leadership</td><td>Mashery           </td><td>nan              </td><td>nan                   </td><td>nan               </td><td>nan           </td><td style=\"text-align: right;\">               1</td><td style=\"text-align: right;\">      0</td><td style=\"text-align: right;\">                    0</td><td style=\"text-align: right;\">                       nan</td><td style=\"text-align: right;\">       2014</td><td style=\"text-align: right;\">          9</td><td style=\"text-align: right;\">         20</td><td style=\"text-align: right;\">          0</td><td style=\"text-align: right;\">       nan</td><td style=\"text-align: right;\">       nan</td><td style=\"text-align: right;\">       nan</td><td style=\"text-align: right;\">       nan</td></tr>\n",
       "<tr><td>yahoo.com         </td><td>manny@outreach.io</td><td style=\"text-align: right;\">                1</td><td style=\"text-align: right;\">                   0</td><td style=\"text-align: right;\">                0</td><td style=\"text-align: right;\">              19</td><td style=\"text-align: right;\">         1012</td><td style=\"text-align: right;\">            1</td><td style=\"text-align: right;\">            1</td><td style=\"text-align: right;\">            nan</td><td>            </td><td style=\"text-align: right;\">          15</td><td style=\"text-align: right;\">          242</td><td style=\"text-align: right;\">           61</td><td style=\"text-align: right;\">               155</td><td style=\"text-align: right;\">                   215</td><td style=\"text-align: right;\">               1119</td><td>Paul                 </td><td>Internet             </td><td>Sales Leadership</td><td>Rocket Lawyer     </td><td>Internet         </td><td>www.rocketlawyer.com  </td><td>San Francisco     </td><td>Mid-Market    </td><td style=\"text-align: right;\">               1</td><td style=\"text-align: right;\">      0</td><td style=\"text-align: right;\">                    0</td><td style=\"text-align: right;\">                        64</td><td style=\"text-align: right;\">       2014</td><td style=\"text-align: right;\">          9</td><td style=\"text-align: right;\">         20</td><td style=\"text-align: right;\">          0</td><td style=\"text-align: right;\">      2014</td><td style=\"text-align: right;\">         9</td><td style=\"text-align: right;\">        20</td><td style=\"text-align: right;\">         1</td></tr>\n",
       "<tr><td>netskope.com      </td><td>manny@outreach.io</td><td style=\"text-align: right;\">                1</td><td style=\"text-align: right;\">                   0</td><td style=\"text-align: right;\">                0</td><td style=\"text-align: right;\">              19</td><td style=\"text-align: right;\">         1012</td><td style=\"text-align: right;\">            1</td><td style=\"text-align: right;\">            1</td><td style=\"text-align: right;\">            nan</td><td>            </td><td style=\"text-align: right;\">          15</td><td style=\"text-align: right;\">          242</td><td style=\"text-align: right;\">           61</td><td style=\"text-align: right;\">               155</td><td style=\"text-align: right;\">                   215</td><td style=\"text-align: right;\">               1120</td><td>Paul                 </td><td>Computer Software    </td><td>Sales Leadership</td><td>Netskope          </td><td>Computer Software</td><td>www.netskope.com      </td><td>Los Altos         </td><td>Mid-Market    </td><td style=\"text-align: right;\">               1</td><td style=\"text-align: right;\">      0</td><td style=\"text-align: right;\">                    0</td><td style=\"text-align: right;\">                         1</td><td style=\"text-align: right;\">       2014</td><td style=\"text-align: right;\">          9</td><td style=\"text-align: right;\">         20</td><td style=\"text-align: right;\">          0</td><td style=\"text-align: right;\">      2014</td><td style=\"text-align: right;\">         9</td><td style=\"text-align: right;\">        20</td><td style=\"text-align: right;\">         0</td></tr>\n",
       "<tr><td>mixamo.com        </td><td>manny@outreach.io</td><td style=\"text-align: right;\">                1</td><td style=\"text-align: right;\">                   0</td><td style=\"text-align: right;\">                0</td><td style=\"text-align: right;\">              19</td><td style=\"text-align: right;\">         1012</td><td style=\"text-align: right;\">            1</td><td style=\"text-align: right;\">            1</td><td style=\"text-align: right;\">            nan</td><td>            </td><td style=\"text-align: right;\">          15</td><td style=\"text-align: right;\">          242</td><td style=\"text-align: right;\">           61</td><td style=\"text-align: right;\">               155</td><td style=\"text-align: right;\">                   215</td><td style=\"text-align: right;\">               1121</td><td>Mike                 </td><td>nan                  </td><td>Sales Leadership</td><td>Wowzer            </td><td>nan              </td><td>nan                   </td><td>nan               </td><td>nan           </td><td style=\"text-align: right;\">               1</td><td style=\"text-align: right;\">      0</td><td style=\"text-align: right;\">                    0</td><td style=\"text-align: right;\">                      2374</td><td style=\"text-align: right;\">       2014</td><td style=\"text-align: right;\">          9</td><td style=\"text-align: right;\">         20</td><td style=\"text-align: right;\">          0</td><td style=\"text-align: right;\">      2014</td><td style=\"text-align: right;\">         9</td><td style=\"text-align: right;\">        21</td><td style=\"text-align: right;\">        16</td></tr>\n",
       "<tr><td>financialforce.com</td><td>manny@outreach.io</td><td style=\"text-align: right;\">                1</td><td style=\"text-align: right;\">                   0</td><td style=\"text-align: right;\">                0</td><td style=\"text-align: right;\">              19</td><td style=\"text-align: right;\">         1012</td><td style=\"text-align: right;\">            1</td><td style=\"text-align: right;\">            1</td><td style=\"text-align: right;\">            nan</td><td>            </td><td style=\"text-align: right;\">          15</td><td style=\"text-align: right;\">          242</td><td style=\"text-align: right;\">           61</td><td style=\"text-align: right;\">               155</td><td style=\"text-align: right;\">                   215</td><td style=\"text-align: right;\">               1122</td><td>Adrian               </td><td>Computer Software    </td><td>Sales Leadership</td><td>FinancialForce.com</td><td>Computer Software</td><td>www.FinancialForce.com</td><td>San Francisco     </td><td>Commercial    </td><td style=\"text-align: right;\">               1</td><td style=\"text-align: right;\">      0</td><td style=\"text-align: right;\">                    0</td><td style=\"text-align: right;\">                       182</td><td style=\"text-align: right;\">       2014</td><td style=\"text-align: right;\">          9</td><td style=\"text-align: right;\">         20</td><td style=\"text-align: right;\">          0</td><td style=\"text-align: right;\">      2014</td><td style=\"text-align: right;\">         9</td><td style=\"text-align: right;\">        20</td><td style=\"text-align: right;\">         3</td></tr>\n",
       "<tr><td>thismoment.com    </td><td>manny@outreach.io</td><td style=\"text-align: right;\">                1</td><td style=\"text-align: right;\">                   0</td><td style=\"text-align: right;\">                0</td><td style=\"text-align: right;\">              19</td><td style=\"text-align: right;\">         1012</td><td style=\"text-align: right;\">            1</td><td style=\"text-align: right;\">            1</td><td style=\"text-align: right;\">            nan</td><td>            </td><td style=\"text-align: right;\">          15</td><td style=\"text-align: right;\">          242</td><td style=\"text-align: right;\">           61</td><td style=\"text-align: right;\">               155</td><td style=\"text-align: right;\">                   215</td><td style=\"text-align: right;\">               1123</td><td>Brian                </td><td>nan                  </td><td>Sales Leadership</td><td>ThisMoment        </td><td>nan              </td><td>nan                   </td><td>nan               </td><td>nan           </td><td style=\"text-align: right;\">               1</td><td style=\"text-align: right;\">      0</td><td style=\"text-align: right;\">                    0</td><td style=\"text-align: right;\">                       122</td><td style=\"text-align: right;\">       2014</td><td style=\"text-align: right;\">          9</td><td style=\"text-align: right;\">         20</td><td style=\"text-align: right;\">          0</td><td style=\"text-align: right;\">      2014</td><td style=\"text-align: right;\">         9</td><td style=\"text-align: right;\">        20</td><td style=\"text-align: right;\">         2</td></tr>\n",
       "</tbody>\n",
       "</table>"
      ]
     },
     "metadata": {},
     "output_type": "display_data"
    },
    {
     "name": "stdout",
     "output_type": "stream",
     "text": [
      "\n"
     ]
    }
   ],
   "source": [
    "print(train)"
   ]
  },
  {
   "cell_type": "code",
   "execution_count": null,
   "metadata": {},
   "outputs": [],
   "source": [
    "# Build random forest model\n",
    "model = H2ORandomForestEstimator(balance_classes=True, ntrees=50, max_depth=10, \n",
    "                                 mtries=-1, seed=42, score_each_iteration=True,)\n",
    "model.train(x=feature, y=target, training_frame=train)"
   ]
  },
  {
   "cell_type": "code",
   "execution_count": null,
   "metadata": {},
   "outputs": [],
   "source": [
    "model.varimp_plot()"
   ]
  },
  {
   "cell_type": "markdown",
   "metadata": {},
   "source": [
    "From the feature importance chart, we can see the time when the email is opened is important.\n",
    "Given that the open time matters, there are other indicators: from which email address, industry, prospect occupation, sequence id and sequence step id."
   ]
  },
  {
   "cell_type": "markdown",
   "metadata": {},
   "source": [
    "#### Plot ROC curve and choose better probability threshold"
   ]
  },
  {
   "cell_type": "markdown",
   "metadata": {},
   "source": [
    "since the data is highly imbalanced (positive examples is only 3% of the total examples), if using default probability threshold (0.5), the model just classify every example as negative, so we need to plot the ROC curve and choose a better probability threshold."
   ]
  },
  {
   "cell_type": "code",
   "execution_count": null,
   "metadata": {},
   "outputs": [],
   "source": [
    "#split validation set\n",
    "strat_split = h2o_df['reply'].stratified_split(test_frac=0.2, seed=42)\n",
    "validation = h2o_df[strat_split == 'test']\n",
    "model_v = H2ORandomForestEstimator(balance_classes=True, ntrees=50, max_depth=10, \n",
    "                                 mtries=-1, seed=42, score_each_iteration=True,)\n",
    "model_v.train(x=feature, y=target, training_frame=train)"
   ]
  },
  {
   "cell_type": "code",
   "execution_count": null,
   "metadata": {},
   "outputs": [],
   "source": [
    "validation_true = validation.as_data_frame()['reply'].values\n",
    "validation_pred = model_v.predict(validation).as_data_frame()['p1'].values\n",
    "\n",
    "validation_fpr, validation_tpr, _ = roc_curve(validation_true, validation_pred)\n",
    "validation_auc = np.round(auc(validation_fpr, validation_tpr), 3)"
   ]
  },
  {
   "cell_type": "code",
   "execution_count": null,
   "metadata": {
    "scrolled": true
   },
   "outputs": [],
   "source": [
    "fig, ax = plt.subplots(figsize=(8, 6))\n",
    "ax.plot(validation_fpr, validation_tpr, label='Validation AUC: ' + str(validation_auc))\n",
    "ax.set_xlabel('False Positive Rate', fontsize=12)\n",
    "ax.set_ylabel('True Positive Rate', fontsize=12)\n",
    "ax.legend(fontsize=12)\n",
    "plt.show()"
   ]
  },
  {
   "cell_type": "code",
   "execution_count": null,
   "metadata": {},
   "outputs": [],
   "source": [
    "d={}\n",
    "d['FPR'],d['TPR'],d['Threshold'] = roc_curve(validation_true, validation_pred)\n",
    "roc_results = pd.DataFrame(d)\n",
    "roc_results.loc[(roc_results.TPR > 0.6) & (roc_results.TPR < 0.65),:].head()"
   ]
  },
  {
   "cell_type": "code",
   "execution_count": null,
   "metadata": {},
   "outputs": [],
   "source": [
    "# Make predictions\n",
    "# train_true = train.as_data_frame()['reply'].values\n",
    "test_true = test.as_data_frame()['reply'].values\n",
    "# train_pred = model.predict(train).as_data_frame()['p1'].values\n",
    "test_pred = model.predict(test).as_data_frame()['p1'].values"
   ]
  },
  {
   "cell_type": "markdown",
   "metadata": {},
   "source": [
    "### XGBoost"
   ]
  },
  {
   "cell_type": "markdown",
   "metadata": {},
   "source": [
    "I also tried XGBoost, it took long time to run the model. The performance is slightly better than random forest model but compared to time consumtion it has no big advantage."
   ]
  },
  {
   "cell_type": "code",
   "execution_count": null,
   "metadata": {},
   "outputs": [],
   "source": [
    "# H2OXGBoostEstimator\n",
    "# model2= H2OXGBoostEstimator(max_depth=10, nfolds=10, ntrees=50, score_each_iteration=True)\n",
    "# model2.train(x=feature, y=target, training_frame=train)"
   ]
  },
  {
   "cell_type": "code",
   "execution_count": null,
   "metadata": {},
   "outputs": [],
   "source": [
    "# train_pred2 = model2.predict(train).as_data_frame()['p1'].values\n",
    "# test_pred2 = model2.predict(test).as_data_frame()['p1'].values"
   ]
  },
  {
   "cell_type": "markdown",
   "metadata": {},
   "source": [
    "### Model evaluation"
   ]
  },
  {
   "cell_type": "code",
   "execution_count": null,
   "metadata": {},
   "outputs": [],
   "source": [
    "# Classification report\n",
    "print('Classification report for Random Forest')\n",
    "print(classification_report(y_true=test_true, y_pred=(test_pred > 0.1042).astype(int)))"
   ]
  },
  {
   "cell_type": "code",
   "execution_count": null,
   "metadata": {},
   "outputs": [],
   "source": [
    "# Classification report\n",
    "print('Classification report for XGBoost')\n",
    "print(classification_report(y_true=test_true, y_pred=(test_pred2 > 0.1042).astype(int)))"
   ]
  },
  {
   "cell_type": "markdown",
   "metadata": {},
   "source": [
    "Based on the classification report, we can see the precision and recall are high when predicting negtive class, which is pretty good that we save time and resources on a lot of bad sequence emails. Also the model have accpetable recall on positive outcomes."
   ]
  },
  {
   "cell_type": "code",
   "execution_count": null,
   "metadata": {},
   "outputs": [],
   "source": [
    "# Shutdown h2o instance\n",
    "h2o.cluster().shutdown()"
   ]
  },
  {
   "cell_type": "markdown",
   "metadata": {},
   "source": [
    "you'll investigate one particular algorithm with an increasing 'max_depth' parameter on the full training set to observe how model complexity affects performance. Graphing your model's performance based on varying criteria can be beneficial in the analysis process, such as visualizing behavior that may not have been apparent from the results alone."
   ]
  },
  {
   "cell_type": "markdown",
   "metadata": {},
   "source": [
    "The following code cell produces four graphs for a decision tree model with different maximum depths. Each graph visualizes the learning curves of the model for both training and testing as the size of the training set is increased. Note that the shaded region of a learning curve denotes the uncertainty of that curve (measured as the standard deviation). The model is scored on both the training and testing sets using R2, the coefficient of determination."
   ]
  },
  {
   "cell_type": "markdown",
   "metadata": {},
   "source": [
    "### Logistic regression"
   ]
  },
  {
   "cell_type": "code",
   "execution_count": null,
   "metadata": {},
   "outputs": [],
   "source": [
    "X = dataframe.loc[:,('country', 'age', 'new_user', 'source', 'total_pages_visited')]\n",
    "\n",
    "# OHE those categorical features\n",
    "X = pd.get_dummies(X)"
   ]
  },
  {
   "cell_type": "code",
   "execution_count": null,
   "metadata": {},
   "outputs": [],
   "source": [
    "y = dataframe.converted\n",
    "y.mean()"
   ]
  },
  {
   "cell_type": "markdown",
   "metadata": {},
   "source": [
    "from y's mean(), we know that, target value is very imbalanced, which reminds us should not use plain 'accurancy' as the metric to judge a classifier is good or not\n",
    "\n",
    "then we need to split the whole dataset into 'training' dataset and 'test' dataset"
   ]
  },
  {
   "cell_type": "code",
   "execution_count": null,
   "metadata": {},
   "outputs": [],
   "source": [
    "Xtrain,Xtest,ytrain,ytest = train_test_split(X,y,test_size=0.333)"
   ]
  },
  {
   "cell_type": "code",
   "execution_count": null,
   "metadata": {},
   "outputs": [],
   "source": [
    "ytrain.mean(),ytest.mean()"
   ]
  },
  {
   "cell_type": "markdown",
   "metadata": {},
   "source": [
    "since both ytrain.mean() and ytest.mean() are similar to y.mean(), we can say, the splitting process doesn't import any bias"
   ]
  },
  {
   "cell_type": "code",
   "execution_count": null,
   "metadata": {},
   "outputs": [],
   "source": [
    "## since the problem cares giving explanation on each factor\n",
    "## it seems it would be better to use L1 penalty\n",
    "## however, L1 penalty doesn't produce a sparse coeffecient, but AUC is much lower\n",
    "## so I switch back to use L2 penalty\n",
    "lrcv = LogisticRegressionCV(Cs = np.logspace(-3,3,7),\n",
    "                            dual=False,\n",
    "                            scoring='roc_auc',\n",
    "                            max_iter=1000,\n",
    "                            n_jobs=-1,\n",
    "                            verbose=1)\n",
    "lrcv.fit(Xtrain,ytrain)"
   ]
  },
  {
   "cell_type": "code",
   "execution_count": null,
   "metadata": {},
   "outputs": [],
   "source": [
    "\n",
    "ytest_predict = lrcv.predict(Xtest)\n",
    "print classification_report(y_true=ytest,y_pred=ytest_predict)"
   ]
  },
  {
   "cell_type": "code",
   "execution_count": null,
   "metadata": {},
   "outputs": [],
   "source": [
    "feat_importances = pd.DataFrame({\"name\":Xtrain.columns,\"coef\":lrcv.coef_[0]})\n",
    "feat_importances = feat_importances[['name','coef']]# reorder the columns\n",
    "feat_importances['importances'] = np.abs( feat_importances['coef'] )\n",
    "feat_importances.sort_values(by=\"importances\",inplace=True,ascending=False)\n",
    "feat_importances"
   ]
  },
  {
   "cell_type": "markdown",
   "metadata": {},
   "source": [
    "### Decision tree"
   ]
  },
  {
   "cell_type": "code",
   "execution_count": null,
   "metadata": {},
   "outputs": [],
   "source": [
    "dt = DecisionTreeClassifier(max_depth=3,min_samples_leaf=20,min_samples_split=20)\n",
    "dt.fit(X,y)\n",
    "export_graphviz(dt,feature_names=X.columns,class_names=['NotFraud','Fraud'],\n",
    "                proportion=True,leaves_parallel=True,filled=True)"
   ]
  },
  {
   "cell_type": "markdown",
   "metadata": {},
   "source": [
    "From above plot, we focus on two leaf-nodes\n",
    "\n",
    "the blue leaf node indicates, if 'interval_after_signup' is <=69 seconds, which means the customer purchases immediatelly after signup, then there is very high probability that this transaction is fraud.\n",
    "the leaf-node with positive ratio=23% (the second node from right), if the purchase is from a device shared by 2~4 users, then there is above-normal probability that the transaction is fraud."
   ]
  },
  {
   "cell_type": "markdown",
   "metadata": {},
   "source": [
    "in this case, because normally this \"Fraud Detection Model\" is often used in a pre-screening step, whose result will be further investigated by expert, so\n",
    "\n",
    "if 'Not Fraud' is classified as 'Fraud', human expert can still have method to fix the problem\n",
    "but if 'Fraud' is classified as 'Not Fraud', the company will lose money directly.\n",
    "\n",
    "so in this case, \"false negative\" cost much higher, so we should choose a relatively smaller threshold."
   ]
  },
  {
   "cell_type": "markdown",
   "metadata": {},
   "source": [
    "## Part 4: Summary"
   ]
  },
  {
   "cell_type": "markdown",
   "metadata": {},
   "source": [
    "Sending sequence emails may depend on factors from several aspects: to whom, when and how.\n",
    "<br> According to data analysis, these behavior will probably get better prospect engagement. \n",
    "1. sending sequence email to small business, SDR (sales development rep)\n",
    "2. set the deliver time at early morning (6-8am)\n",
    "3. customize email subject and content "
   ]
  },
  {
   "cell_type": "markdown",
   "metadata": {},
   "source": [
    "I have the hypothesis: successful emails may be influenced by subject, content, the sender and receiver.\n",
    "When running models, wen can see the feature importance, to some extent it proves my hypothesis. The sender, receiver occupation and industry, sequence id play important roles."
   ]
  },
  {
   "cell_type": "markdown",
   "metadata": {},
   "source": [
    "Besides, we can apply some machine learning models to try to predict the reply probability. \n",
    "In this notebook, I implement the Random Forest model and XGBoost. The model has good ability to predict negative outcomes. Knowing we have a great email response would be nice, but avoiding a bad sequence email is much more valuable, saving large amount of ineffective emails."
   ]
  },
  {
   "cell_type": "markdown",
   "metadata": {},
   "source": [
    "Based on the model built previously, we can send email to selected prospects that are predicted to have higher probability to reply. The new strategy will be: only send email to users which my model predicts positive.\n",
    "If we want to further test it, we can conduct A/B test to see if the built model can actually help improve the reply-rate."
   ]
  },
  {
   "cell_type": "code",
   "execution_count": null,
   "metadata": {},
   "outputs": [],
   "source": []
  },
  {
   "cell_type": "markdown",
   "metadata": {},
   "source": []
  }
 ],
 "metadata": {
  "kernelspec": {
   "display_name": "Python 3",
   "language": "python",
   "name": "python3"
  },
  "language_info": {
   "codemirror_mode": {
    "name": "ipython",
    "version": 3
   },
   "file_extension": ".py",
   "mimetype": "text/x-python",
   "name": "python",
   "nbconvert_exporter": "python",
   "pygments_lexer": "ipython3",
   "version": "3.6.8"
  }
 },
 "nbformat": 4,
 "nbformat_minor": 2
}
